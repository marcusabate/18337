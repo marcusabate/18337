{
 "cells": [
  {
   "cell_type": "markdown",
   "metadata": {},
   "source": [
    "# Optimizing Serial Code\n",
    "### Chris Rackauckas\n",
    "### September 3rd, 2019\n",
    "At the center of any fast parallel code is a fast serial code. Parallelism\n",
    "is made to be a performance multiplier, so if you start from a bad position it\n",
    "won't ever get much better. Thus the first thing that we need to do is understand\n",
    "what makes code slow and how to avoid the pitfalls. This discussion of serial\n",
    "code optimization will also directly motivate why we will be using Julia\n",
    "throughout this course.\n",
    "\n",
    "## Mental Model of a Memory\n",
    "\n",
    "To start optimizing code you need a good mental model of a computer.\n",
    "\n",
    "### High Level View\n",
    "\n",
    "At the highest level you have a CPU's core memory which directly accesses a\n",
    "L1 cache. The L1 cache has the fastest access, so things which will be needed\n",
    "soon are kept there. However, it is filled from the L2 cache, which itself\n",
    "is filled from the L3 cache, which is filled from the main memory. This bring\n",
    "us to the first idea in optimizing code: using things that are already in\n",
    "a closer cache can help the code run faster because it doesn't have to be\n",
    "queried for and moved up this chain.\n",
    "\n",
    "![](https://hackernoon.com/hn-images/1*nT3RAGnOAWmKmvOBnizNtw.png)\n",
    "\n",
    "When something needs to be pulled directly from main memory this is known as a\n",
    "*cache miss*. To understand the cost of a cache miss vs standard calculations,\n",
    "take a look at [this classic chart](http://ithare.com/infographics-operation-costs-in-cpu-clock-cycles/).\n",
    "\n",
    "(Cache-aware and cache-oblivious algorithms are methods which change their\n",
    "indexing structure to optimize their use of the cache lines. We will return\n",
    "to this when talking about performance of linear algebra.)\n",
    "\n",
    "### Cache Lines and Row/Column-Major\n",
    "\n",
    "Many algorithms in numerical\n",
    "linear algebra are designed to minimize cache misses. Because of this chain,\n",
    "many modern CPUs try to guess what you will want next in your cache. When\n",
    "dealing with arrays, it will speculate ahead and grab what is known as a *cache\n",
    "line*: the next chunk in the array. Thus, your algorithms will be faster if\n",
    "you iterate along the values that it is grabbing.\n",
    "\n",
    "The values that it grabs are the next values in the contiguous order of the\n",
    "stored array. There are two common conventions: row major and column major.\n",
    "Row major means that the linear array of memory is formed by stacking the\n",
    "rows one after another, while column major puts the column vectors one after\n",
    "another.\n",
    "\n",
    "![](https://eli.thegreenplace.net/images/2015/column-major-2D.png)\n",
    "\n",
    "*Julia, MATLAB, and Fortran are column major*. Python's numpy is row-major."
   ]
  },
  {
   "cell_type": "code",
   "execution_count": 1,
   "metadata": {},
   "outputs": [
    {
     "name": "stdout",
     "output_type": "stream",
     "text": [
      "  18.900 μs (0 allocations: 0 bytes)\n"
     ]
    }
   ],
   "source": [
    "A = rand(100,100)\n",
    "B = rand(100,100)\n",
    "C = rand(100,100)\n",
    "using BenchmarkTools\n",
    "function inner_rows!(C,A,B)\n",
    "  for i in 1:100, j in 1:100\n",
    "    C[i,j] = A[i,j] + B[i,j]\n",
    "  end\n",
    "end\n",
    "@btime inner_rows!(C,A,B)"
   ]
  },
  {
   "cell_type": "code",
   "execution_count": 2,
   "metadata": {},
   "outputs": [
    {
     "name": "stdout",
     "output_type": "stream",
     "text": [
      "  9.600 μs (0 allocations: 0 bytes)\n"
     ]
    }
   ],
   "source": [
    "function inner_cols!(C,A,B)\n",
    "  for j in 1:100, i in 1:100\n",
    "    C[i,j] = A[i,j] + B[i,j]\n",
    "  end\n",
    "end\n",
    "@btime inner_cols!(C,A,B)"
   ]
  },
  {
   "cell_type": "markdown",
   "metadata": {},
   "source": [
    "### Lower Level View: The Stack and the Heap\n",
    "\n",
    "Locally, the stack is composed of a *stack* and a *heap*. The stack requires a\n",
    "static allocation: it is ordered. Because it's ordered, it is very clear where\n",
    "things are in the stack, and therefore accesses are very quick (think\n",
    "instantanious). However, because this is static, it requires that the size\n",
    "of the variables is known at compile time (to determine all of the variable\n",
    "locations). Since that is not possible with all variables, there exists the\n",
    "heap. The heap is essentially a stack of pointers to objects in memory. When\n",
    "heap variables are needed, their values are pulled up the cache chain and\n",
    "accessed.\n",
    "\n",
    "![](https://bayanbox.ir/view/581244719208138556/virtual-memory.jpg)\n",
    "![](https://camo.githubusercontent.com/ca96d70d09ce694363e44b93fd975bb3033898c1/687474703a2f2f7475746f7269616c732e6a656e6b6f762e636f6d2f696d616765732f6a6176612d636f6e63757272656e63792f6a6176612d6d656d6f72792d6d6f64656c2d352e706e67)\n",
    "\n",
    "### Heap Allocations and Speed\n",
    "\n",
    "Heap allocations are costly because they involve this pointer indirection,\n",
    "so stack allocation should be done when sensible (it's not helpful for really\n",
    "large arrays, but for small values like scalars it's essential!)"
   ]
  },
  {
   "cell_type": "code",
   "execution_count": 3,
   "metadata": {},
   "outputs": [
    {
     "name": "stdout",
     "output_type": "stream",
     "text": [
      "  257.800 μs (10000 allocations: 937.50 KiB)\n"
     ]
    }
   ],
   "source": [
    "function inner_alloc!(C,A,B)\n",
    "  for j in 1:100, i in 1:100\n",
    "    val = [A[i,j] + B[i,j]]\n",
    "    C[i,j] = val[1]\n",
    "  end\n",
    "end\n",
    "@btime inner_alloc!(C,A,B)"
   ]
  },
  {
   "cell_type": "code",
   "execution_count": 4,
   "metadata": {},
   "outputs": [
    {
     "name": "stdout",
     "output_type": "stream",
     "text": [
      "  8.467 μs (0 allocations: 0 bytes)\n"
     ]
    }
   ],
   "source": [
    "function inner_noalloc!(C,A,B)\n",
    "  for j in 1:100, i in 1:100\n",
    "    val = A[i,j] + B[i,j]\n",
    "    C[i,j] = val[1]\n",
    "  end\n",
    "end\n",
    "@btime inner_noalloc!(C,A,B)"
   ]
  },
  {
   "cell_type": "markdown",
   "metadata": {},
   "source": [
    "Why does the array here get heap-allocated? It isn't able to prove/guerentee\n",
    "at compile-time that the array's size will always be a given value, and thus\n",
    "it allocates it to the heap. `@btime` tells us this allocation occured and\n",
    "shows us the total heap memory that was taken. Meanwhile, the size of a Float64\n",
    "number is known at compile-time (64-bits), and so this is stored onto the stack\n",
    "and given a specific location that the compiler will be able to directly\n",
    "address.\n",
    "\n",
    "Note that one can use the StaticArrays.jl library to get statically-sized arrays\n",
    "and thus arrays which are stack-allocated:"
   ]
  },
  {
   "cell_type": "code",
   "execution_count": 7,
   "metadata": {},
   "outputs": [
    {
     "name": "stderr",
     "output_type": "stream",
     "text": [
      "┌ Info: Precompiling StaticArrays [90137ffa-7385-5640-81b9-e52037218182]\n",
      "└ @ Base loading.jl:1273\n"
     ]
    },
    {
     "name": "stdout",
     "output_type": "stream",
     "text": [
      "  9.600 μs (0 allocations: 0 bytes)\n"
     ]
    }
   ],
   "source": [
    "using StaticArrays\n",
    "function static_inner_alloc!(C,A,B)\n",
    "  for j in 1:100, i in 1:100\n",
    "    val = @SVector [A[i,j] + B[i,j]]\n",
    "    C[i,j] = val[1]\n",
    "  end\n",
    "end\n",
    "@btime static_inner_alloc!(C,A,B)"
   ]
  },
  {
   "cell_type": "markdown",
   "metadata": {},
   "source": [
    "### Mutation to Avoid Heap Allocations\n",
    "\n",
    "Many times you do need to write into an array, so how can you write into an\n",
    "array without performing a heap allocation? The answer is mutation. Mutation\n",
    "is changing the values of an already existing array. In that case, no free\n",
    "memory has to be found to put the array (and no memory has to be freed by\n",
    "the garbage collector).\n",
    "\n",
    "In Julia, functions which mutate the first value are conventionally noted by\n",
    "a `!`. See the difference between these two equivalent functions:"
   ]
  },
  {
   "cell_type": "code",
   "execution_count": 8,
   "metadata": {},
   "outputs": [
    {
     "name": "stdout",
     "output_type": "stream",
     "text": [
      "  8.433 μs (0 allocations: 0 bytes)\n"
     ]
    }
   ],
   "source": [
    "function inner_noalloc!(C,A,B)\n",
    "  for j in 1:100, i in 1:100\n",
    "    val = A[i,j] + B[i,j]\n",
    "    C[i,j] = val[1]\n",
    "  end\n",
    "end\n",
    "@btime inner_noalloc!(C,A,B)"
   ]
  },
  {
   "cell_type": "code",
   "execution_count": 9,
   "metadata": {},
   "outputs": [
    {
     "name": "stdout",
     "output_type": "stream",
     "text": [
      "  13.200 μs (2 allocations: 78.20 KiB)\n"
     ]
    }
   ],
   "source": [
    "function inner_alloc(A,B)\n",
    "  C = similar(A)\n",
    "  for j in 1:100, i in 1:100\n",
    "    val = A[i,j] + B[i,j]\n",
    "    C[i,j] = val[1]\n",
    "  end\n",
    "end\n",
    "@btime inner_alloc(A,B)"
   ]
  },
  {
   "cell_type": "markdown",
   "metadata": {},
   "source": [
    "To use this algorithm effectively, the `!` algorithm assumes that the caller\n",
    "already has allocated the output array to put as the output argument. If that\n",
    "is not true, then one would need to manually allocate. The goal of that interface\n",
    "is to give the caller control over the allocations to allow them to manually\n",
    "reduce the total number of heap allocations and thus increase the speed.\n",
    "\n",
    "### Julia's Broadcasting Mechanism\n",
    "\n",
    "Wouldn't it be nice to not have to write the loop there? In many high level\n",
    "languages this is simply called *vectorization*. In Julia, we will call it\n",
    "*array vectorization* to distinguish it from the *SIMD vectorization* which\n",
    "is common in lower level languages like C, Fortran, and Julia.\n",
    "\n",
    "In Julia, if you use `.` on an operator it will transform it to the broadcasted\n",
    "form. Broadcast is *lazy*: it will build up an entire `.`'d expression and then\n",
    "call `broadcast!` on composed expression. This is customizable and\n",
    "[documented in detail](https://docs.julialang.org/en/v1/manual/interfaces/#man-interfaces-broadcasting-1).\n",
    "However, to a first approximation we can think of the broadcast mechanism as a\n",
    "mechanism for building *fused expressions*. For example, the Julia code:"
   ]
  },
  {
   "cell_type": "code",
   "execution_count": 10,
   "metadata": {},
   "outputs": [],
   "source": [
    "A .+ B .+ C;"
   ]
  },
  {
   "cell_type": "markdown",
   "metadata": {},
   "source": [
    "under the hood lowers to something like:"
   ]
  },
  {
   "cell_type": "code",
   "execution_count": 11,
   "metadata": {},
   "outputs": [],
   "source": [
    "map((a,b,c)->a+b+c,A,B,C);"
   ]
  },
  {
   "cell_type": "markdown",
   "metadata": {},
   "source": [
    "where `map` is a function that just loops over the values element-wise.\n",
    "\n",
    "**Take a quick second to think about why loop fusion may be an optimization.**\n",
    "\n",
    "This about what would happen if you did not fuse the operations. We can write\n",
    "that out as:"
   ]
  },
  {
   "cell_type": "code",
   "execution_count": 12,
   "metadata": {},
   "outputs": [],
   "source": [
    "tmp = A .+ B\n",
    "tmp .+ C;"
   ]
  },
  {
   "cell_type": "markdown",
   "metadata": {},
   "source": [
    "Notice that if we did not fuse the expressions, we would need some place to put\n",
    "the result of `A .+ B`, and that would have to be an array, which means it would\n",
    "cause a heap allocation. Thus broadcast fusion eliminates the *temporary variable*\n",
    "(colloquially called just a *temporary*)."
   ]
  },
  {
   "cell_type": "code",
   "execution_count": 13,
   "metadata": {},
   "outputs": [
    {
     "name": "stdout",
     "output_type": "stream",
     "text": [
      "  13.800 μs (4 allocations: 156.41 KiB)\n"
     ]
    }
   ],
   "source": [
    "function unfused(A,B,C)\n",
    "  tmp = A .+ B\n",
    "  tmp .+ C\n",
    "end\n",
    "@btime unfused(A,B,C);"
   ]
  },
  {
   "cell_type": "code",
   "execution_count": 14,
   "metadata": {},
   "outputs": [
    {
     "name": "stdout",
     "output_type": "stream",
     "text": [
      "  7.567 μs (2 allocations: 78.20 KiB)\n"
     ]
    }
   ],
   "source": [
    "fused(A,B,C) = A .+ B .+ C\n",
    "@btime fused(A,B,C);"
   ]
  },
  {
   "cell_type": "markdown",
   "metadata": {},
   "source": [
    "Note that we can also fuse the output by using `.=`. This is essentially the\n",
    "vectorized version of a `!` function:"
   ]
  },
  {
   "cell_type": "code",
   "execution_count": 15,
   "metadata": {},
   "outputs": [
    {
     "name": "stdout",
     "output_type": "stream",
     "text": [
      "  4.571 μs (0 allocations: 0 bytes)\n"
     ]
    }
   ],
   "source": [
    "D = similar(A)\n",
    "fused!(D,A,B,C) = (D .= A .+ B .+ C)\n",
    "@btime fused!(D,A,B,C);"
   ]
  },
  {
   "cell_type": "markdown",
   "metadata": {},
   "source": [
    "### Note on Broadcasting Function Calls\n",
    "\n",
    "Julia allows for broadcasting the call `()` operator as well. `.()` will call\n",
    "the function element-wise on all arguments, so `sin.(A)` will be the elementwise\n",
    "sine function. This will fuse Julia like the other operators.\n",
    "\n",
    "### Note on Vectorization and Speed\n",
    "\n",
    "In articles on MATLAB, Python, R, etc., this is where you will be told to\n",
    "vectorize your code. Notice from above that this isn't a performance difference\n",
    "between writing loops and using vectorized broadcasts. This is not abnormal!\n",
    "The reason why you are told to vectorize code in these other languages is because\n",
    "they have a high per-operation overhead (which will be discussed further down).\n",
    "This means that every call, like `+`, is costly in these languages. To get around\n",
    "this issue and make the language usable, someone wrote and compiled the loop\n",
    "for the C/Fortran function that does the broadcasted form (see numpy's Github repo).\n",
    "Thus `A .+ B`'s MATLAB/Python/R equivalents are calling a single C function\n",
    "to generally avoid the cost of function calls and thus are faster.\n",
    "\n",
    "But this is not an intrinsic property of vectorization. Vectorization isn't\n",
    "\"fast\" in these languages, it's just close to the correct speed. The reason\n",
    "vectorization is recommended is because looping is slow in these languages.\n",
    "Because looping isn't slow in Julia (or C, C++, Fortran, etc.), loops and vectorization\n",
    "generally have the same speed. So use the one that works best for your code\n",
    "without a care about performance.\n",
    "\n",
    "(As a small side effect, these high level languages tend to allocate a lot of\n",
    "temporary variables since the individual C kernels are written for specific\n",
    "numbers of inputs and thus don't naturally fuse. Julia's broadcast mechanism\n",
    "is just generating and JIT compiling Julia functions on the fly, and thus it\n",
    "can accomodate the combinatorial explosion in the amount of choices just by\n",
    "only compiling the combinations that are necessary for a specific code)\n",
    "\n",
    "### Heap Allocations from Slicing\n",
    "\n",
    "It's important to note that slices in Julia produce copies instead of views.\n",
    "Thus for example:"
   ]
  },
  {
   "cell_type": "code",
   "execution_count": 16,
   "metadata": {},
   "outputs": [
    {
     "data": {
      "text/plain": [
       "0.48810333600521516"
      ]
     },
     "execution_count": 16,
     "metadata": {},
     "output_type": "execute_result"
    }
   ],
   "source": [
    "A[50,50]"
   ]
  },
  {
   "cell_type": "markdown",
   "metadata": {},
   "source": [
    "allocates a new output. This is for safety, since if it pointed to the same\n",
    "array then writing to it would change the original array. We can demonstrate\n",
    "this by asking for a *view* instead of a copy."
   ]
  },
  {
   "cell_type": "code",
   "execution_count": 17,
   "metadata": {},
   "outputs": [
    {
     "name": "stdout",
     "output_type": "stream",
     "text": [
      "A[1] = 0.5338887482447907\n",
      "A[1] = 2.0\n"
     ]
    },
    {
     "data": {
      "text/plain": [
       "2.0"
      ]
     },
     "execution_count": 17,
     "metadata": {},
     "output_type": "execute_result"
    }
   ],
   "source": [
    "@show A[1]\n",
    "E = @view A[1:5,1:5]\n",
    "E[1] = 2.0\n",
    "@show A[1]"
   ]
  },
  {
   "cell_type": "markdown",
   "metadata": {},
   "source": [
    "However, this means that `@view A[1:5,1:5]` did not allocate an array (it does\n",
    "allocate a pointer if the escape analysis is unable to prove that it can be\n",
    "elided. This means that in small loops there will be no allocation, while if\n",
    "the view is returned from a function for example it will allocate the pointer,\n",
    "~80 bytes, but not the memory of the array. This means that it is O(1) in cost\n",
    "but with a relatively small constant).\n",
    "\n",
    "### Asymptopic Cost of Heap Allocations\n",
    "\n",
    "Heap allocations have to locate and prepare a space in RAM that is proportional\n",
    "to the amount of memory that is calcuated, which means that the cost of a heap\n",
    "allocation for an array is O(n), with a large constant. As RAM begins to fill\n",
    "up, this cost dramatically increases. If you run out of RAM, your computer\n",
    "may begin to use *swap*, which is essentially RAM simulated on your hard drive.\n",
    "Generally when you hit swap your performance is so dead that you may think that\n",
    "your computation froze, but if you check your resource use you will notice that\n",
    "it's actually just filled the RAM and starting to use the swap.\n",
    "\n",
    "But think of it as O(n) with a large constant factor. This means that for\n",
    "operations which only touch the data once, heap allocations can dominate the\n",
    "computational cost:"
   ]
  },
  {
   "cell_type": "code",
   "execution_count": 18,
   "metadata": {},
   "outputs": [
    {
     "name": "stderr",
     "output_type": "stream",
     "text": [
      "┌ Info: Precompiling Plots [91a5bcdd-55d7-5caf-9e0b-520d859cae80]\n",
      "└ @ Base loading.jl:1273\n"
     ]
    },
    {
     "data": {
      "image/svg+xml": [
       "<?xml version=\"1.0\" encoding=\"utf-8\"?>\n",
       "<svg xmlns=\"http://www.w3.org/2000/svg\" xmlns:xlink=\"http://www.w3.org/1999/xlink\" width=\"600\" height=\"400\" viewBox=\"0 0 2400 1600\">\n",
       "<defs>\n",
       "  <clipPath id=\"clip6800\">\n",
       "    <rect x=\"0\" y=\"0\" width=\"2400\" height=\"1600\"/>\n",
       "  </clipPath>\n",
       "</defs>\n",
       "<path clip-path=\"url(#clip6800)\" d=\"\n",
       "M0 1600 L2400 1600 L2400 0 L0 0  Z\n",
       "  \" fill=\"#ffffff\" fill-rule=\"evenodd\" fill-opacity=\"1\"/>\n",
       "<defs>\n",
       "  <clipPath id=\"clip6801\">\n",
       "    <rect x=\"480\" y=\"0\" width=\"1681\" height=\"1600\"/>\n",
       "  </clipPath>\n",
       "</defs>\n",
       "<path clip-path=\"url(#clip6800)\" d=\"\n",
       "M217.964 1487.47 L2352.76 1487.47 L2352.76 121.675 L217.964 121.675  Z\n",
       "  \" fill=\"#ffffff\" fill-rule=\"evenodd\" fill-opacity=\"1\"/>\n",
       "<defs>\n",
       "  <clipPath id=\"clip6802\">\n",
       "    <rect x=\"217\" y=\"121\" width=\"2136\" height=\"1367\"/>\n",
       "  </clipPath>\n",
       "</defs>\n",
       "<polyline clip-path=\"url(#clip6802)\" style=\"stroke:#000000; stroke-width:2; stroke-opacity:0.1; fill:none\" points=\"\n",
       "  574.194,1487.47 574.194,121.675 \n",
       "  \"/>\n",
       "<polyline clip-path=\"url(#clip6802)\" style=\"stroke:#000000; stroke-width:2; stroke-opacity:0.1; fill:none\" points=\"\n",
       "  945.873,1487.47 945.873,121.675 \n",
       "  \"/>\n",
       "<polyline clip-path=\"url(#clip6802)\" style=\"stroke:#000000; stroke-width:2; stroke-opacity:0.1; fill:none\" points=\"\n",
       "  1317.55,1487.47 1317.55,121.675 \n",
       "  \"/>\n",
       "<polyline clip-path=\"url(#clip6802)\" style=\"stroke:#000000; stroke-width:2; stroke-opacity:0.1; fill:none\" points=\"\n",
       "  1689.23,1487.47 1689.23,121.675 \n",
       "  \"/>\n",
       "<polyline clip-path=\"url(#clip6802)\" style=\"stroke:#000000; stroke-width:2; stroke-opacity:0.1; fill:none\" points=\"\n",
       "  2060.91,1487.47 2060.91,121.675 \n",
       "  \"/>\n",
       "<polyline clip-path=\"url(#clip6802)\" style=\"stroke:#000000; stroke-width:2; stroke-opacity:0.1; fill:none\" points=\"\n",
       "  217.964,1319.23 2352.76,1319.23 \n",
       "  \"/>\n",
       "<polyline clip-path=\"url(#clip6802)\" style=\"stroke:#000000; stroke-width:2; stroke-opacity:0.1; fill:none\" points=\"\n",
       "  217.964,1079.9 2352.76,1079.9 \n",
       "  \"/>\n",
       "<polyline clip-path=\"url(#clip6802)\" style=\"stroke:#000000; stroke-width:2; stroke-opacity:0.1; fill:none\" points=\"\n",
       "  217.964,840.572 2352.76,840.572 \n",
       "  \"/>\n",
       "<polyline clip-path=\"url(#clip6802)\" style=\"stroke:#000000; stroke-width:2; stroke-opacity:0.1; fill:none\" points=\"\n",
       "  217.964,601.242 2352.76,601.242 \n",
       "  \"/>\n",
       "<polyline clip-path=\"url(#clip6802)\" style=\"stroke:#000000; stroke-width:2; stroke-opacity:0.1; fill:none\" points=\"\n",
       "  217.964,361.911 2352.76,361.911 \n",
       "  \"/>\n",
       "<polyline clip-path=\"url(#clip6802)\" style=\"stroke:#000000; stroke-width:2; stroke-opacity:0.1; fill:none\" points=\"\n",
       "  217.964,122.581 2352.76,122.581 \n",
       "  \"/>\n",
       "<polyline clip-path=\"url(#clip6800)\" style=\"stroke:#000000; stroke-width:4; stroke-opacity:1; fill:none\" points=\"\n",
       "  217.964,1487.47 2352.76,1487.47 \n",
       "  \"/>\n",
       "<polyline clip-path=\"url(#clip6800)\" style=\"stroke:#000000; stroke-width:4; stroke-opacity:1; fill:none\" points=\"\n",
       "  217.964,1487.47 217.964,121.675 \n",
       "  \"/>\n",
       "<polyline clip-path=\"url(#clip6800)\" style=\"stroke:#000000; stroke-width:4; stroke-opacity:1; fill:none\" points=\"\n",
       "  574.194,1487.47 574.194,1471.09 \n",
       "  \"/>\n",
       "<polyline clip-path=\"url(#clip6800)\" style=\"stroke:#000000; stroke-width:4; stroke-opacity:1; fill:none\" points=\"\n",
       "  945.873,1487.47 945.873,1471.09 \n",
       "  \"/>\n",
       "<polyline clip-path=\"url(#clip6800)\" style=\"stroke:#000000; stroke-width:4; stroke-opacity:1; fill:none\" points=\"\n",
       "  1317.55,1487.47 1317.55,1471.09 \n",
       "  \"/>\n",
       "<polyline clip-path=\"url(#clip6800)\" style=\"stroke:#000000; stroke-width:4; stroke-opacity:1; fill:none\" points=\"\n",
       "  1689.23,1487.47 1689.23,1471.09 \n",
       "  \"/>\n",
       "<polyline clip-path=\"url(#clip6800)\" style=\"stroke:#000000; stroke-width:4; stroke-opacity:1; fill:none\" points=\"\n",
       "  2060.91,1487.47 2060.91,1471.09 \n",
       "  \"/>\n",
       "<polyline clip-path=\"url(#clip6800)\" style=\"stroke:#000000; stroke-width:4; stroke-opacity:1; fill:none\" points=\"\n",
       "  217.964,1319.23 243.581,1319.23 \n",
       "  \"/>\n",
       "<polyline clip-path=\"url(#clip6800)\" style=\"stroke:#000000; stroke-width:4; stroke-opacity:1; fill:none\" points=\"\n",
       "  217.964,1079.9 243.581,1079.9 \n",
       "  \"/>\n",
       "<polyline clip-path=\"url(#clip6800)\" style=\"stroke:#000000; stroke-width:4; stroke-opacity:1; fill:none\" points=\"\n",
       "  217.964,840.572 243.581,840.572 \n",
       "  \"/>\n",
       "<polyline clip-path=\"url(#clip6800)\" style=\"stroke:#000000; stroke-width:4; stroke-opacity:1; fill:none\" points=\"\n",
       "  217.964,601.242 243.581,601.242 \n",
       "  \"/>\n",
       "<polyline clip-path=\"url(#clip6800)\" style=\"stroke:#000000; stroke-width:4; stroke-opacity:1; fill:none\" points=\"\n",
       "  217.964,361.911 243.581,361.911 \n",
       "  \"/>\n",
       "<polyline clip-path=\"url(#clip6800)\" style=\"stroke:#000000; stroke-width:4; stroke-opacity:1; fill:none\" points=\"\n",
       "  217.964,122.581 243.581,122.581 \n",
       "  \"/>\n",
       "<g clip-path=\"url(#clip6800)\">\n",
       "<text style=\"fill:#000000; fill-opacity:1; font-family:Arial,Helvetica Neue,Helvetica,sans-serif; font-size:48px; text-anchor:start;\" transform=\"rotate(0, 514.815, 1562.48)\" x=\"514.815\" y=\"1562.48\">10</text>\n",
       "</g>\n",
       "<g clip-path=\"url(#clip6800)\">\n",
       "<text style=\"fill:#000000; fill-opacity:1; font-family:Arial,Helvetica Neue,Helvetica,sans-serif; font-size:38px; text-anchor:start;\" transform=\"rotate(0, 568.34, 1535.07)\" x=\"568.34\" y=\"1535.07\">1.0 </text>\n",
       "</g>\n",
       "<g clip-path=\"url(#clip6800)\">\n",
       "<text style=\"fill:#000000; fill-opacity:1; font-family:Arial,Helvetica Neue,Helvetica,sans-serif; font-size:48px; text-anchor:start;\" transform=\"rotate(0, 886.494, 1562.48)\" x=\"886.494\" y=\"1562.48\">10</text>\n",
       "</g>\n",
       "<g clip-path=\"url(#clip6800)\">\n",
       "<text style=\"fill:#000000; fill-opacity:1; font-family:Arial,Helvetica Neue,Helvetica,sans-serif; font-size:38px; text-anchor:start;\" transform=\"rotate(0, 940.018, 1535.07)\" x=\"940.018\" y=\"1535.07\">1.5 </text>\n",
       "</g>\n",
       "<g clip-path=\"url(#clip6800)\">\n",
       "<text style=\"fill:#000000; fill-opacity:1; font-family:Arial,Helvetica Neue,Helvetica,sans-serif; font-size:48px; text-anchor:start;\" transform=\"rotate(0, 1258.17, 1562.48)\" x=\"1258.17\" y=\"1562.48\">10</text>\n",
       "</g>\n",
       "<g clip-path=\"url(#clip6800)\">\n",
       "<text style=\"fill:#000000; fill-opacity:1; font-family:Arial,Helvetica Neue,Helvetica,sans-serif; font-size:38px; text-anchor:start;\" transform=\"rotate(0, 1311.7, 1535.07)\" x=\"1311.7\" y=\"1535.07\">2.0 </text>\n",
       "</g>\n",
       "<g clip-path=\"url(#clip6800)\">\n",
       "<text style=\"fill:#000000; fill-opacity:1; font-family:Arial,Helvetica Neue,Helvetica,sans-serif; font-size:48px; text-anchor:start;\" transform=\"rotate(0, 1629.85, 1562.48)\" x=\"1629.85\" y=\"1562.48\">10</text>\n",
       "</g>\n",
       "<g clip-path=\"url(#clip6800)\">\n",
       "<text style=\"fill:#000000; fill-opacity:1; font-family:Arial,Helvetica Neue,Helvetica,sans-serif; font-size:38px; text-anchor:start;\" transform=\"rotate(0, 1683.38, 1535.07)\" x=\"1683.38\" y=\"1535.07\">2.5 </text>\n",
       "</g>\n",
       "<g clip-path=\"url(#clip6800)\">\n",
       "<text style=\"fill:#000000; fill-opacity:1; font-family:Arial,Helvetica Neue,Helvetica,sans-serif; font-size:48px; text-anchor:start;\" transform=\"rotate(0, 2001.53, 1562.48)\" x=\"2001.53\" y=\"1562.48\">10</text>\n",
       "</g>\n",
       "<g clip-path=\"url(#clip6800)\">\n",
       "<text style=\"fill:#000000; fill-opacity:1; font-family:Arial,Helvetica Neue,Helvetica,sans-serif; font-size:38px; text-anchor:start;\" transform=\"rotate(0, 2055.05, 1535.07)\" x=\"2055.05\" y=\"1535.07\">3.0 </text>\n",
       "</g>\n",
       "<g clip-path=\"url(#clip6800)\">\n",
       "<text style=\"fill:#000000; fill-opacity:1; font-family:Arial,Helvetica Neue,Helvetica,sans-serif; font-size:48px; text-anchor:start;\" transform=\"rotate(0, 84.9832, 1342.96)\" x=\"84.9832\" y=\"1342.96\">10</text>\n",
       "</g>\n",
       "<g clip-path=\"url(#clip6800)\">\n",
       "<text style=\"fill:#000000; fill-opacity:1; font-family:Arial,Helvetica Neue,Helvetica,sans-serif; font-size:38px; text-anchor:start;\" transform=\"rotate(0, 138.508, 1315.55)\" x=\"138.508\" y=\"1315.55\">-</text>\n",
       "</g>\n",
       "<g clip-path=\"url(#clip6800)\">\n",
       "<text style=\"fill:#000000; fill-opacity:1; font-family:Arial,Helvetica Neue,Helvetica,sans-serif; font-size:38px; text-anchor:start;\" transform=\"rotate(0, 161.347, 1315.55)\" x=\"161.347\" y=\"1315.55\">7 </text>\n",
       "</g>\n",
       "<g clip-path=\"url(#clip6800)\">\n",
       "<text style=\"fill:#000000; fill-opacity:1; font-family:Arial,Helvetica Neue,Helvetica,sans-serif; font-size:48px; text-anchor:start;\" transform=\"rotate(0, 84.9832, 1103.63)\" x=\"84.9832\" y=\"1103.63\">10</text>\n",
       "</g>\n",
       "<g clip-path=\"url(#clip6800)\">\n",
       "<text style=\"fill:#000000; fill-opacity:1; font-family:Arial,Helvetica Neue,Helvetica,sans-serif; font-size:38px; text-anchor:start;\" transform=\"rotate(0, 138.508, 1076.22)\" x=\"138.508\" y=\"1076.22\">-</text>\n",
       "</g>\n",
       "<g clip-path=\"url(#clip6800)\">\n",
       "<text style=\"fill:#000000; fill-opacity:1; font-family:Arial,Helvetica Neue,Helvetica,sans-serif; font-size:38px; text-anchor:start;\" transform=\"rotate(0, 161.347, 1076.22)\" x=\"161.347\" y=\"1076.22\">6 </text>\n",
       "</g>\n",
       "<g clip-path=\"url(#clip6800)\">\n",
       "<text style=\"fill:#000000; fill-opacity:1; font-family:Arial,Helvetica Neue,Helvetica,sans-serif; font-size:48px; text-anchor:start;\" transform=\"rotate(0, 84.9832, 864.3)\" x=\"84.9832\" y=\"864.3\">10</text>\n",
       "</g>\n",
       "<g clip-path=\"url(#clip6800)\">\n",
       "<text style=\"fill:#000000; fill-opacity:1; font-family:Arial,Helvetica Neue,Helvetica,sans-serif; font-size:38px; text-anchor:start;\" transform=\"rotate(0, 138.508, 836.889)\" x=\"138.508\" y=\"836.889\">-</text>\n",
       "</g>\n",
       "<g clip-path=\"url(#clip6800)\">\n",
       "<text style=\"fill:#000000; fill-opacity:1; font-family:Arial,Helvetica Neue,Helvetica,sans-serif; font-size:38px; text-anchor:start;\" transform=\"rotate(0, 161.347, 836.889)\" x=\"161.347\" y=\"836.889\">5 </text>\n",
       "</g>\n",
       "<g clip-path=\"url(#clip6800)\">\n",
       "<text style=\"fill:#000000; fill-opacity:1; font-family:Arial,Helvetica Neue,Helvetica,sans-serif; font-size:48px; text-anchor:start;\" transform=\"rotate(0, 84.9832, 624.969)\" x=\"84.9832\" y=\"624.969\">10</text>\n",
       "</g>\n",
       "<g clip-path=\"url(#clip6800)\">\n",
       "<text style=\"fill:#000000; fill-opacity:1; font-family:Arial,Helvetica Neue,Helvetica,sans-serif; font-size:38px; text-anchor:start;\" transform=\"rotate(0, 138.508, 597.559)\" x=\"138.508\" y=\"597.559\">-</text>\n",
       "</g>\n",
       "<g clip-path=\"url(#clip6800)\">\n",
       "<text style=\"fill:#000000; fill-opacity:1; font-family:Arial,Helvetica Neue,Helvetica,sans-serif; font-size:38px; text-anchor:start;\" transform=\"rotate(0, 161.347, 597.559)\" x=\"161.347\" y=\"597.559\">4 </text>\n",
       "</g>\n",
       "<g clip-path=\"url(#clip6800)\">\n",
       "<text style=\"fill:#000000; fill-opacity:1; font-family:Arial,Helvetica Neue,Helvetica,sans-serif; font-size:48px; text-anchor:start;\" transform=\"rotate(0, 84.9832, 385.639)\" x=\"84.9832\" y=\"385.639\">10</text>\n",
       "</g>\n",
       "<g clip-path=\"url(#clip6800)\">\n",
       "<text style=\"fill:#000000; fill-opacity:1; font-family:Arial,Helvetica Neue,Helvetica,sans-serif; font-size:38px; text-anchor:start;\" transform=\"rotate(0, 138.508, 358.228)\" x=\"138.508\" y=\"358.228\">-</text>\n",
       "</g>\n",
       "<g clip-path=\"url(#clip6800)\">\n",
       "<text style=\"fill:#000000; fill-opacity:1; font-family:Arial,Helvetica Neue,Helvetica,sans-serif; font-size:38px; text-anchor:start;\" transform=\"rotate(0, 161.347, 358.228)\" x=\"161.347\" y=\"358.228\">3 </text>\n",
       "</g>\n",
       "<g clip-path=\"url(#clip6800)\">\n",
       "<text style=\"fill:#000000; fill-opacity:1; font-family:Arial,Helvetica Neue,Helvetica,sans-serif; font-size:48px; text-anchor:start;\" transform=\"rotate(0, 84.9832, 146.308)\" x=\"84.9832\" y=\"146.308\">10</text>\n",
       "</g>\n",
       "<g clip-path=\"url(#clip6800)\">\n",
       "<text style=\"fill:#000000; fill-opacity:1; font-family:Arial,Helvetica Neue,Helvetica,sans-serif; font-size:38px; text-anchor:start;\" transform=\"rotate(0, 138.508, 118.898)\" x=\"138.508\" y=\"118.898\">-</text>\n",
       "</g>\n",
       "<g clip-path=\"url(#clip6800)\">\n",
       "<text style=\"fill:#000000; fill-opacity:1; font-family:Arial,Helvetica Neue,Helvetica,sans-serif; font-size:38px; text-anchor:start;\" transform=\"rotate(0, 161.347, 118.898)\" x=\"161.347\" y=\"118.898\">2 </text>\n",
       "</g>\n",
       "<g clip-path=\"url(#clip6800)\">\n",
       "<text style=\"fill:#000000; fill-opacity:1; font-family:Arial,Helvetica Neue,Helvetica,sans-serif; font-size:84px; text-anchor:middle;\" transform=\"rotate(0, 1285.36, 73.2)\" x=\"1285.36\" y=\"73.2\">Micro-optimizations matter for BLAS1</text>\n",
       "</g>\n",
       "<polyline clip-path=\"url(#clip6802)\" style=\"stroke:#009af9; stroke-width:4; stroke-opacity:1; fill:none\" points=\"\n",
       "  278.383,1372.22 502.155,1299.75 725.928,1166.34 949.701,1093.89 1173.47,974.757 1397.25,844.815 1621.02,679.94 1844.79,505.878 2068.56,323.327 2292.34,160.33 \n",
       "  \n",
       "  \"/>\n",
       "<polyline clip-path=\"url(#clip6802)\" style=\"stroke:#e26f46; stroke-width:4; stroke-opacity:1; fill:none\" points=\"\n",
       "  278.383,1448.82 502.155,1366.17 725.928,1298.44 949.701,1210.47 1173.47,1067.2 1397.25,880.964 1621.02,729.192 1844.79,517.463 2068.56,329.402 2292.34,180.442 \n",
       "  \n",
       "  \"/>\n",
       "<path clip-path=\"url(#clip6800)\" d=\"\n",
       "M1999.26 1343.47 L2280.76 1343.47 L2280.76 1162.03 L1999.26 1162.03  Z\n",
       "  \" fill=\"#ffffff\" fill-rule=\"evenodd\" fill-opacity=\"1\"/>\n",
       "<polyline clip-path=\"url(#clip6800)\" style=\"stroke:#000000; stroke-width:4; stroke-opacity:1; fill:none\" points=\"\n",
       "  1999.26,1343.47 2280.76,1343.47 2280.76,1162.03 1999.26,1162.03 1999.26,1343.47 \n",
       "  \"/>\n",
       "<polyline clip-path=\"url(#clip6800)\" style=\"stroke:#009af9; stroke-width:4; stroke-opacity:1; fill:none\" points=\"\n",
       "  2023.26,1222.51 2167.26,1222.51 \n",
       "  \"/>\n",
       "<g clip-path=\"url(#clip6800)\">\n",
       "<text style=\"fill:#000000; fill-opacity:1; font-family:Arial,Helvetica Neue,Helvetica,sans-serif; font-size:48px; text-anchor:start;\" transform=\"rotate(0, 2191.26, 1240.01)\" x=\"2191.26\" y=\"1240.01\">=</text>\n",
       "</g>\n",
       "<polyline clip-path=\"url(#clip6800)\" style=\"stroke:#e26f46; stroke-width:4; stroke-opacity:1; fill:none\" points=\"\n",
       "  2023.26,1282.99 2167.26,1282.99 \n",
       "  \"/>\n",
       "<g clip-path=\"url(#clip6800)\">\n",
       "<text style=\"fill:#000000; fill-opacity:1; font-family:Arial,Helvetica Neue,Helvetica,sans-serif; font-size:48px; text-anchor:start;\" transform=\"rotate(0, 2191.26, 1300.49)\" x=\"2191.26\" y=\"1300.49\">.=</text>\n",
       "</g>\n",
       "</svg>\n"
      ]
     },
     "execution_count": 18,
     "metadata": {},
     "output_type": "execute_result"
    }
   ],
   "source": [
    "using LinearAlgebra, BenchmarkTools\n",
    "function alloc_timer(n)\n",
    "    A = rand(n,n)\n",
    "    B = rand(n,n)\n",
    "    C = rand(n,n)\n",
    "    t1 = @belapsed $A .* $B\n",
    "    t2 = @belapsed ($C .= $A .* $B)\n",
    "    t1,t2\n",
    "end\n",
    "ns = 2 .^ (2:11)\n",
    "res = [alloc_timer(n) for n in ns]\n",
    "alloc   = [x[1] for x in res]\n",
    "noalloc = [x[2] for x in res]\n",
    "\n",
    "using Plots\n",
    "plot(ns,alloc,label=\"=\",xscale=:log10,yscale=:log10,legend=:bottomright,\n",
    "     title=\"Micro-optimizations matter for BLAS1\")\n",
    "plot!(ns,noalloc,label=\".=\")"
   ]
  },
  {
   "cell_type": "markdown",
   "metadata": {},
   "source": [
    "However, when the computation takes O(n^3), like in matrix multiplications,\n",
    "the high constant factor only comes into play when the matrices are sufficiently\n",
    "small:"
   ]
  },
  {
   "cell_type": "code",
   "execution_count": 19,
   "metadata": {},
   "outputs": [
    {
     "data": {
      "image/svg+xml": [
       "<?xml version=\"1.0\" encoding=\"utf-8\"?>\n",
       "<svg xmlns=\"http://www.w3.org/2000/svg\" xmlns:xlink=\"http://www.w3.org/1999/xlink\" width=\"600\" height=\"400\" viewBox=\"0 0 2400 1600\">\n",
       "<defs>\n",
       "  <clipPath id=\"clip7200\">\n",
       "    <rect x=\"0\" y=\"0\" width=\"2400\" height=\"1600\"/>\n",
       "  </clipPath>\n",
       "</defs>\n",
       "<path clip-path=\"url(#clip7200)\" d=\"\n",
       "M0 1600 L2400 1600 L2400 0 L0 0  Z\n",
       "  \" fill=\"#ffffff\" fill-rule=\"evenodd\" fill-opacity=\"1\"/>\n",
       "<defs>\n",
       "  <clipPath id=\"clip7201\">\n",
       "    <rect x=\"480\" y=\"0\" width=\"1681\" height=\"1600\"/>\n",
       "  </clipPath>\n",
       "</defs>\n",
       "<path clip-path=\"url(#clip7200)\" d=\"\n",
       "M258.107 1487.47 L2352.76 1487.47 L2352.76 121.675 L258.107 121.675  Z\n",
       "  \" fill=\"#ffffff\" fill-rule=\"evenodd\" fill-opacity=\"1\"/>\n",
       "<defs>\n",
       "  <clipPath id=\"clip7202\">\n",
       "    <rect x=\"258\" y=\"121\" width=\"2096\" height=\"1367\"/>\n",
       "  </clipPath>\n",
       "</defs>\n",
       "<polyline clip-path=\"url(#clip7202)\" style=\"stroke:#000000; stroke-width:2; stroke-opacity:0.1; fill:none\" points=\"\n",
       "  511.618,1487.47 511.618,121.675 \n",
       "  \"/>\n",
       "<polyline clip-path=\"url(#clip7202)\" style=\"stroke:#000000; stroke-width:2; stroke-opacity:0.1; fill:none\" points=\"\n",
       "  839.838,1487.47 839.838,121.675 \n",
       "  \"/>\n",
       "<polyline clip-path=\"url(#clip7202)\" style=\"stroke:#000000; stroke-width:2; stroke-opacity:0.1; fill:none\" points=\"\n",
       "  1168.06,1487.47 1168.06,121.675 \n",
       "  \"/>\n",
       "<polyline clip-path=\"url(#clip7202)\" style=\"stroke:#000000; stroke-width:2; stroke-opacity:0.1; fill:none\" points=\"\n",
       "  1496.28,1487.47 1496.28,121.675 \n",
       "  \"/>\n",
       "<polyline clip-path=\"url(#clip7202)\" style=\"stroke:#000000; stroke-width:2; stroke-opacity:0.1; fill:none\" points=\"\n",
       "  1824.5,1487.47 1824.5,121.675 \n",
       "  \"/>\n",
       "<polyline clip-path=\"url(#clip7202)\" style=\"stroke:#000000; stroke-width:2; stroke-opacity:0.1; fill:none\" points=\"\n",
       "  2152.72,1487.47 2152.72,121.675 \n",
       "  \"/>\n",
       "<polyline clip-path=\"url(#clip7202)\" style=\"stroke:#000000; stroke-width:2; stroke-opacity:0.1; fill:none\" points=\"\n",
       "  258.107,1299.1 2352.76,1299.1 \n",
       "  \"/>\n",
       "<polyline clip-path=\"url(#clip7202)\" style=\"stroke:#000000; stroke-width:2; stroke-opacity:0.1; fill:none\" points=\"\n",
       "  258.107,1052.56 2352.76,1052.56 \n",
       "  \"/>\n",
       "<polyline clip-path=\"url(#clip7202)\" style=\"stroke:#000000; stroke-width:2; stroke-opacity:0.1; fill:none\" points=\"\n",
       "  258.107,806.03 2352.76,806.03 \n",
       "  \"/>\n",
       "<polyline clip-path=\"url(#clip7202)\" style=\"stroke:#000000; stroke-width:2; stroke-opacity:0.1; fill:none\" points=\"\n",
       "  258.107,559.497 2352.76,559.497 \n",
       "  \"/>\n",
       "<polyline clip-path=\"url(#clip7202)\" style=\"stroke:#000000; stroke-width:2; stroke-opacity:0.1; fill:none\" points=\"\n",
       "  258.107,312.964 2352.76,312.964 \n",
       "  \"/>\n",
       "<polyline clip-path=\"url(#clip7200)\" style=\"stroke:#000000; stroke-width:4; stroke-opacity:1; fill:none\" points=\"\n",
       "  258.107,1487.47 2352.76,1487.47 \n",
       "  \"/>\n",
       "<polyline clip-path=\"url(#clip7200)\" style=\"stroke:#000000; stroke-width:4; stroke-opacity:1; fill:none\" points=\"\n",
       "  258.107,1487.47 258.107,121.675 \n",
       "  \"/>\n",
       "<polyline clip-path=\"url(#clip7200)\" style=\"stroke:#000000; stroke-width:4; stroke-opacity:1; fill:none\" points=\"\n",
       "  511.618,1487.47 511.618,1471.09 \n",
       "  \"/>\n",
       "<polyline clip-path=\"url(#clip7200)\" style=\"stroke:#000000; stroke-width:4; stroke-opacity:1; fill:none\" points=\"\n",
       "  839.838,1487.47 839.838,1471.09 \n",
       "  \"/>\n",
       "<polyline clip-path=\"url(#clip7200)\" style=\"stroke:#000000; stroke-width:4; stroke-opacity:1; fill:none\" points=\"\n",
       "  1168.06,1487.47 1168.06,1471.09 \n",
       "  \"/>\n",
       "<polyline clip-path=\"url(#clip7200)\" style=\"stroke:#000000; stroke-width:4; stroke-opacity:1; fill:none\" points=\"\n",
       "  1496.28,1487.47 1496.28,1471.09 \n",
       "  \"/>\n",
       "<polyline clip-path=\"url(#clip7200)\" style=\"stroke:#000000; stroke-width:4; stroke-opacity:1; fill:none\" points=\"\n",
       "  1824.5,1487.47 1824.5,1471.09 \n",
       "  \"/>\n",
       "<polyline clip-path=\"url(#clip7200)\" style=\"stroke:#000000; stroke-width:4; stroke-opacity:1; fill:none\" points=\"\n",
       "  2152.72,1487.47 2152.72,1471.09 \n",
       "  \"/>\n",
       "<polyline clip-path=\"url(#clip7200)\" style=\"stroke:#000000; stroke-width:4; stroke-opacity:1; fill:none\" points=\"\n",
       "  258.107,1299.1 283.243,1299.1 \n",
       "  \"/>\n",
       "<polyline clip-path=\"url(#clip7200)\" style=\"stroke:#000000; stroke-width:4; stroke-opacity:1; fill:none\" points=\"\n",
       "  258.107,1052.56 283.243,1052.56 \n",
       "  \"/>\n",
       "<polyline clip-path=\"url(#clip7200)\" style=\"stroke:#000000; stroke-width:4; stroke-opacity:1; fill:none\" points=\"\n",
       "  258.107,806.03 283.243,806.03 \n",
       "  \"/>\n",
       "<polyline clip-path=\"url(#clip7200)\" style=\"stroke:#000000; stroke-width:4; stroke-opacity:1; fill:none\" points=\"\n",
       "  258.107,559.497 283.243,559.497 \n",
       "  \"/>\n",
       "<polyline clip-path=\"url(#clip7200)\" style=\"stroke:#000000; stroke-width:4; stroke-opacity:1; fill:none\" points=\"\n",
       "  258.107,312.964 283.243,312.964 \n",
       "  \"/>\n",
       "<g clip-path=\"url(#clip7200)\">\n",
       "<text style=\"fill:#000000; fill-opacity:1; font-family:Arial,Helvetica Neue,Helvetica,sans-serif; font-size:48px; text-anchor:start;\" transform=\"rotate(0, 441.366, 1562.48)\" x=\"441.366\" y=\"1562.48\">10</text>\n",
       "</g>\n",
       "<g clip-path=\"url(#clip7200)\">\n",
       "<text style=\"fill:#000000; fill-opacity:1; font-family:Arial,Helvetica Neue,Helvetica,sans-serif; font-size:38px; text-anchor:start;\" transform=\"rotate(0, 494.891, 1535.07)\" x=\"494.891\" y=\"1535.07\">0.75 </text>\n",
       "</g>\n",
       "<g clip-path=\"url(#clip7200)\">\n",
       "<text style=\"fill:#000000; fill-opacity:1; font-family:Arial,Helvetica Neue,Helvetica,sans-serif; font-size:48px; text-anchor:start;\" transform=\"rotate(0, 769.587, 1562.48)\" x=\"769.587\" y=\"1562.48\">10</text>\n",
       "</g>\n",
       "<g clip-path=\"url(#clip7200)\">\n",
       "<text style=\"fill:#000000; fill-opacity:1; font-family:Arial,Helvetica Neue,Helvetica,sans-serif; font-size:38px; text-anchor:start;\" transform=\"rotate(0, 823.112, 1535.07)\" x=\"823.112\" y=\"1535.07\">1.00 </text>\n",
       "</g>\n",
       "<g clip-path=\"url(#clip7200)\">\n",
       "<text style=\"fill:#000000; fill-opacity:1; font-family:Arial,Helvetica Neue,Helvetica,sans-serif; font-size:48px; text-anchor:start;\" transform=\"rotate(0, 1097.81, 1562.48)\" x=\"1097.81\" y=\"1562.48\">10</text>\n",
       "</g>\n",
       "<g clip-path=\"url(#clip7200)\">\n",
       "<text style=\"fill:#000000; fill-opacity:1; font-family:Arial,Helvetica Neue,Helvetica,sans-serif; font-size:38px; text-anchor:start;\" transform=\"rotate(0, 1151.33, 1535.07)\" x=\"1151.33\" y=\"1535.07\">1.25 </text>\n",
       "</g>\n",
       "<g clip-path=\"url(#clip7200)\">\n",
       "<text style=\"fill:#000000; fill-opacity:1; font-family:Arial,Helvetica Neue,Helvetica,sans-serif; font-size:48px; text-anchor:start;\" transform=\"rotate(0, 1426.03, 1562.48)\" x=\"1426.03\" y=\"1562.48\">10</text>\n",
       "</g>\n",
       "<g clip-path=\"url(#clip7200)\">\n",
       "<text style=\"fill:#000000; fill-opacity:1; font-family:Arial,Helvetica Neue,Helvetica,sans-serif; font-size:38px; text-anchor:start;\" transform=\"rotate(0, 1479.55, 1535.07)\" x=\"1479.55\" y=\"1535.07\">1.50 </text>\n",
       "</g>\n",
       "<g clip-path=\"url(#clip7200)\">\n",
       "<text style=\"fill:#000000; fill-opacity:1; font-family:Arial,Helvetica Neue,Helvetica,sans-serif; font-size:48px; text-anchor:start;\" transform=\"rotate(0, 1754.25, 1562.48)\" x=\"1754.25\" y=\"1562.48\">10</text>\n",
       "</g>\n",
       "<g clip-path=\"url(#clip7200)\">\n",
       "<text style=\"fill:#000000; fill-opacity:1; font-family:Arial,Helvetica Neue,Helvetica,sans-serif; font-size:38px; text-anchor:start;\" transform=\"rotate(0, 1807.77, 1535.07)\" x=\"1807.77\" y=\"1535.07\">1.75 </text>\n",
       "</g>\n",
       "<g clip-path=\"url(#clip7200)\">\n",
       "<text style=\"fill:#000000; fill-opacity:1; font-family:Arial,Helvetica Neue,Helvetica,sans-serif; font-size:48px; text-anchor:start;\" transform=\"rotate(0, 2082.47, 1562.48)\" x=\"2082.47\" y=\"1562.48\">10</text>\n",
       "</g>\n",
       "<g clip-path=\"url(#clip7200)\">\n",
       "<text style=\"fill:#000000; fill-opacity:1; font-family:Arial,Helvetica Neue,Helvetica,sans-serif; font-size:38px; text-anchor:start;\" transform=\"rotate(0, 2135.99, 1535.07)\" x=\"2135.99\" y=\"1535.07\">2.00 </text>\n",
       "</g>\n",
       "<g clip-path=\"url(#clip7200)\">\n",
       "<text style=\"fill:#000000; fill-opacity:1; font-family:Arial,Helvetica Neue,Helvetica,sans-serif; font-size:48px; text-anchor:start;\" transform=\"rotate(0, 92.5101, 1322.83)\" x=\"92.5101\" y=\"1322.83\">10</text>\n",
       "</g>\n",
       "<g clip-path=\"url(#clip7200)\">\n",
       "<text style=\"fill:#000000; fill-opacity:1; font-family:Arial,Helvetica Neue,Helvetica,sans-serif; font-size:38px; text-anchor:start;\" transform=\"rotate(0, 146.035, 1295.41)\" x=\"146.035\" y=\"1295.41\">-</text>\n",
       "</g>\n",
       "<g clip-path=\"url(#clip7200)\">\n",
       "<text style=\"fill:#000000; fill-opacity:1; font-family:Arial,Helvetica Neue,Helvetica,sans-serif; font-size:38px; text-anchor:start;\" transform=\"rotate(0, 168.874, 1295.41)\" x=\"168.874\" y=\"1295.41\">6.5 </text>\n",
       "</g>\n",
       "<g clip-path=\"url(#clip7200)\">\n",
       "<text style=\"fill:#000000; fill-opacity:1; font-family:Arial,Helvetica Neue,Helvetica,sans-serif; font-size:48px; text-anchor:start;\" transform=\"rotate(0, 92.5101, 1076.29)\" x=\"92.5101\" y=\"1076.29\">10</text>\n",
       "</g>\n",
       "<g clip-path=\"url(#clip7200)\">\n",
       "<text style=\"fill:#000000; fill-opacity:1; font-family:Arial,Helvetica Neue,Helvetica,sans-serif; font-size:38px; text-anchor:start;\" transform=\"rotate(0, 146.035, 1048.88)\" x=\"146.035\" y=\"1048.88\">-</text>\n",
       "</g>\n",
       "<g clip-path=\"url(#clip7200)\">\n",
       "<text style=\"fill:#000000; fill-opacity:1; font-family:Arial,Helvetica Neue,Helvetica,sans-serif; font-size:38px; text-anchor:start;\" transform=\"rotate(0, 168.874, 1048.88)\" x=\"168.874\" y=\"1048.88\">6.0 </text>\n",
       "</g>\n",
       "<g clip-path=\"url(#clip7200)\">\n",
       "<text style=\"fill:#000000; fill-opacity:1; font-family:Arial,Helvetica Neue,Helvetica,sans-serif; font-size:48px; text-anchor:start;\" transform=\"rotate(0, 92.5101, 829.758)\" x=\"92.5101\" y=\"829.758\">10</text>\n",
       "</g>\n",
       "<g clip-path=\"url(#clip7200)\">\n",
       "<text style=\"fill:#000000; fill-opacity:1; font-family:Arial,Helvetica Neue,Helvetica,sans-serif; font-size:38px; text-anchor:start;\" transform=\"rotate(0, 146.035, 802.348)\" x=\"146.035\" y=\"802.348\">-</text>\n",
       "</g>\n",
       "<g clip-path=\"url(#clip7200)\">\n",
       "<text style=\"fill:#000000; fill-opacity:1; font-family:Arial,Helvetica Neue,Helvetica,sans-serif; font-size:38px; text-anchor:start;\" transform=\"rotate(0, 168.874, 802.348)\" x=\"168.874\" y=\"802.348\">5.5 </text>\n",
       "</g>\n",
       "<g clip-path=\"url(#clip7200)\">\n",
       "<text style=\"fill:#000000; fill-opacity:1; font-family:Arial,Helvetica Neue,Helvetica,sans-serif; font-size:48px; text-anchor:start;\" transform=\"rotate(0, 92.5101, 583.225)\" x=\"92.5101\" y=\"583.225\">10</text>\n",
       "</g>\n",
       "<g clip-path=\"url(#clip7200)\">\n",
       "<text style=\"fill:#000000; fill-opacity:1; font-family:Arial,Helvetica Neue,Helvetica,sans-serif; font-size:38px; text-anchor:start;\" transform=\"rotate(0, 146.035, 555.814)\" x=\"146.035\" y=\"555.814\">-</text>\n",
       "</g>\n",
       "<g clip-path=\"url(#clip7200)\">\n",
       "<text style=\"fill:#000000; fill-opacity:1; font-family:Arial,Helvetica Neue,Helvetica,sans-serif; font-size:38px; text-anchor:start;\" transform=\"rotate(0, 168.874, 555.814)\" x=\"168.874\" y=\"555.814\">5.0 </text>\n",
       "</g>\n",
       "<g clip-path=\"url(#clip7200)\">\n",
       "<text style=\"fill:#000000; fill-opacity:1; font-family:Arial,Helvetica Neue,Helvetica,sans-serif; font-size:48px; text-anchor:start;\" transform=\"rotate(0, 92.5101, 336.691)\" x=\"92.5101\" y=\"336.691\">10</text>\n",
       "</g>\n",
       "<g clip-path=\"url(#clip7200)\">\n",
       "<text style=\"fill:#000000; fill-opacity:1; font-family:Arial,Helvetica Neue,Helvetica,sans-serif; font-size:38px; text-anchor:start;\" transform=\"rotate(0, 146.035, 309.281)\" x=\"146.035\" y=\"309.281\">-</text>\n",
       "</g>\n",
       "<g clip-path=\"url(#clip7200)\">\n",
       "<text style=\"fill:#000000; fill-opacity:1; font-family:Arial,Helvetica Neue,Helvetica,sans-serif; font-size:38px; text-anchor:start;\" transform=\"rotate(0, 168.874, 309.281)\" x=\"168.874\" y=\"309.281\">4.5 </text>\n",
       "</g>\n",
       "<g clip-path=\"url(#clip7200)\">\n",
       "<text style=\"fill:#000000; fill-opacity:1; font-family:Arial,Helvetica Neue,Helvetica,sans-serif; font-size:84px; text-anchor:middle;\" transform=\"rotate(0, 1305.43, 73.2)\" x=\"1305.43\" y=\"73.2\">Micro-optimizations only matter for small matmuls</text>\n",
       "</g>\n",
       "<polyline clip-path=\"url(#clip7202)\" style=\"stroke:#009af9; stroke-width:4; stroke-opacity:1; fill:none\" points=\"\n",
       "  317.39,1413.61 712.607,1341.26 1107.82,1082.49 1503.04,798.53 1898.26,448.404 2293.47,160.33 \n",
       "  \"/>\n",
       "<polyline clip-path=\"url(#clip7202)\" style=\"stroke:#e26f46; stroke-width:4; stroke-opacity:1; fill:none\" points=\"\n",
       "  317.39,1448.82 712.607,1382.24 1107.82,1184.64 1503.04,832.937 1898.26,462.905 2293.47,170.181 \n",
       "  \"/>\n",
       "<path clip-path=\"url(#clip7200)\" d=\"\n",
       "M1949.83 1343.47 L2280.76 1343.47 L2280.76 1162.03 L1949.83 1162.03  Z\n",
       "  \" fill=\"#ffffff\" fill-rule=\"evenodd\" fill-opacity=\"1\"/>\n",
       "<polyline clip-path=\"url(#clip7200)\" style=\"stroke:#000000; stroke-width:4; stroke-opacity:1; fill:none\" points=\"\n",
       "  1949.83,1343.47 2280.76,1343.47 2280.76,1162.03 1949.83,1162.03 1949.83,1343.47 \n",
       "  \"/>\n",
       "<polyline clip-path=\"url(#clip7200)\" style=\"stroke:#009af9; stroke-width:4; stroke-opacity:1; fill:none\" points=\"\n",
       "  1973.83,1222.51 2117.83,1222.51 \n",
       "  \"/>\n",
       "<g clip-path=\"url(#clip7200)\">\n",
       "<text style=\"fill:#000000; fill-opacity:1; font-family:Arial,Helvetica Neue,Helvetica,sans-serif; font-size:48px; text-anchor:start;\" transform=\"rotate(0, 2141.83, 1240.01)\" x=\"2141.83\" y=\"1240.01\">*</text>\n",
       "</g>\n",
       "<polyline clip-path=\"url(#clip7200)\" style=\"stroke:#e26f46; stroke-width:4; stroke-opacity:1; fill:none\" points=\"\n",
       "  1973.83,1282.99 2117.83,1282.99 \n",
       "  \"/>\n",
       "<g clip-path=\"url(#clip7200)\">\n",
       "<text style=\"fill:#000000; fill-opacity:1; font-family:Arial,Helvetica Neue,Helvetica,sans-serif; font-size:48px; text-anchor:start;\" transform=\"rotate(0, 2141.83, 1300.49)\" x=\"2141.83\" y=\"1300.49\">mul!</text>\n",
       "</g>\n",
       "</svg>\n"
      ]
     },
     "execution_count": 19,
     "metadata": {},
     "output_type": "execute_result"
    }
   ],
   "source": [
    "using LinearAlgebra, BenchmarkTools\n",
    "function alloc_timer(n)\n",
    "    A = rand(n,n)\n",
    "    B = rand(n,n)\n",
    "    C = rand(n,n)\n",
    "    t1 = @belapsed $A*$B\n",
    "    t2 = @belapsed mul!($C,$A,$B)\n",
    "    t1,t2\n",
    "end\n",
    "ns = 2 .^ (2:7)\n",
    "res = [alloc_timer(n) for n in ns]\n",
    "alloc   = [x[1] for x in res]\n",
    "noalloc = [x[2] for x in res]\n",
    "\n",
    "using Plots\n",
    "plot(ns,alloc,label=\"*\",xscale=:log10,yscale=:log10,legend=:bottomright,\n",
    "     title=\"Micro-optimizations only matter for small matmuls\")\n",
    "plot!(ns,noalloc,label=\"mul!\")"
   ]
  },
  {
   "cell_type": "markdown",
   "metadata": {},
   "source": [
    "Though using a mutating form is never bad and always is a little bit better.\n",
    "\n",
    "### Optimizing Memory Use Summary\n",
    "\n",
    "- Avoid cache misses by reusing values\n",
    "- Iterate along columns\n",
    "- Avoid heap allocations in inner loops\n",
    "- Heap allocations occur when the size of things is not proven at compile-time\n",
    "- Use fused broadcasts (with mutated outputs) to avoid heap allocations\n",
    "- Array vectorization confers no special benefit in Julia because Julia loops\n",
    "  are as fast as C or Fortran\n",
    "- Use views instead of slices when applicable\n",
    "- Avoiding heap allocations is most necessary for O(n) algorithms or algorithms\n",
    "  with small arrays\n",
    "- Use StaticArrays.jl to avoid heap allocations of small arrays in inner loops\n",
    "\n",
    "## Julia's Type Inference and the Compiler\n",
    "\n",
    "Many people think Julia is fast because it is JIT compiled. That is simply not\n",
    "true (we've already shown examples where Julia code isn't fast, but it's always\n",
    "JIT compiled!). Instead, the reason why Julia is fast is because the combination\n",
    "of two ideas:\n",
    "\n",
    "- Type inference\n",
    "- Type specialization in functions\n",
    "\n",
    "These two features naturally give rise to Julia's core design feature: multiple\n",
    "dispatch. Let's break down these pieces.\n",
    "\n",
    "### Type Inference\n",
    "\n",
    "At the core level of the computer, everything has a type. Some languages are\n",
    "more explicit about said types, while others try to hide the types from the\n",
    "user. A type tells the compiler how to to store and interpret the memory of a\n",
    "value. For example, if the compiled code knows that the value in the register\n",
    "is supposed to be interpreted as a 64-bit floating point number, then it\n",
    "understands that slab of memory like:\n",
    "\n",
    "![](https://i.stack.imgur.com/ZUbLc.png)\n",
    "\n",
    "Importantly, it will know what to do for function calls. If the code tells it\n",
    "to add two floating point numbers, it will send them as inputs to the\n",
    "Floating Point Unit (FPU) which will give the output.\n",
    "\n",
    "If the types are not known, then... ? So one cannot actually compute until\n",
    "the types are known, since otherwise it's impossible to interpret the memory.\n",
    "In languages like C, the programmer has to declare the types of\n",
    "variables in the program:\n",
    "\n",
    "```\n",
    "void add(double *a, double *b, double *c, size_t n){\n",
    "  size_t i;\n",
    "  for(i = 0; i < n; ++i) {\n",
    "    c[i] = a[i] + b[i];\n",
    "  }\n",
    "}\n",
    "```\n",
    "\n",
    "The types are known at compile time because the programmer set it in stone.\n",
    "In many interpreted languages Python, types are checked at runtime. For example,\n",
    "\n",
    "```\n",
    "a = 2\n",
    "b = 4\n",
    "a + b\n",
    "```\n",
    "\n",
    "when the addition occurs, the Python interpreter will check the object holding\n",
    "the values and ask it for its types, and use those types to know how to compute\n",
    "the + function. For this reason, the add function in Python is rather complex\n",
    "since it needs to decode and have a version for all primitive types!\n",
    "\n",
    "Not only is there runtime overhead checks in function calls due to to not being\n",
    "explicit about types, there is also a memory overhead since it is impossible\n",
    "to know how much memory a value with take since that's a property of its type.\n",
    "Thus the Python interpreter cannot statically guerentee exact unchanging values\n",
    "for the size that a value would take in the stack, meaning that the variables\n",
    "are not stack-allocated. This means that every number ends up heap-allocated,\n",
    "which hopefully begins to explain why this is not as fast as C.\n",
    "\n",
    "The solution is Julia is somewhat of a hybrid. The Julia code looks like:"
   ]
  },
  {
   "cell_type": "code",
   "execution_count": null,
   "metadata": {},
   "outputs": [],
   "source": [
    "a = 2\n",
    "b = 4\n",
    "a + b"
   ]
  },
  {
   "cell_type": "markdown",
   "metadata": {},
   "source": [
    "However, before JIT compilation, Julia runs a type inference algorithm which\n",
    "finds out that `A` is an `Int`, and `B` is an `Int`. You can then understand\n",
    "that if it can prove that `A+B` is an `Int`, then it can propogate all of the\n",
    "types through.\n",
    "\n",
    "### Type Specialization in Functions\n",
    "\n",
    "Julia is able to propogate type inference through functions because, even if\n",
    "a function is \"untyped\", Julia will interpret this as a *generic function*\n",
    "over possible *methods*, where every method has a concrete type. This means that\n",
    "in Julia, the function:"
   ]
  },
  {
   "cell_type": "code",
   "execution_count": 1,
   "metadata": {},
   "outputs": [
    {
     "data": {
      "text/plain": [
       "f (generic function with 1 method)"
      ]
     },
     "execution_count": 1,
     "metadata": {},
     "output_type": "execute_result"
    }
   ],
   "source": [
    "f(x,y) = x+y"
   ]
  },
  {
   "cell_type": "markdown",
   "metadata": {},
   "source": [
    "is not what you may think of as a \"single function\", since given inputs of\n",
    "different types it will actually be a different function. We can see this by\n",
    "examining the *LLVM IR* (LLVM is Julia's compiler, the IR is the\n",
    "*Intermediate Representation*, i.e. a platform-independent representation\n",
    "of assembly that lives in LLVM that it knows how to convert into assembly per\n",
    "architecture):"
   ]
  },
  {
   "cell_type": "code",
   "execution_count": 3,
   "metadata": {},
   "outputs": [
    {
     "name": "stdout",
     "output_type": "stream",
     "text": [
      "\n",
      ";  @ In[1]:1 within `f'\n",
      "define i64 @julia_f_17447(i64, i64) {\n",
      "top:\n",
      "; ┌ @ int.jl:53 within `+'\n",
      "   %2 = add i64 %1, %0\n",
      "; └\n",
      "  ret i64 %2\n",
      "}\n"
     ]
    }
   ],
   "source": [
    "using InteractiveUtils\n",
    "@code_llvm f(2,5)"
   ]
  },
  {
   "cell_type": "code",
   "execution_count": 4,
   "metadata": {},
   "outputs": [
    {
     "name": "stdout",
     "output_type": "stream",
     "text": [
      "\n",
      ";  @ In[1]:1 within `f'\n",
      "define double @julia_f_17451(double, double) {\n",
      "top:\n",
      "; ┌ @ float.jl:401 within `+'\n",
      "   %2 = fadd double %0, %1\n",
      "; └\n",
      "  ret double %2\n",
      "}\n"
     ]
    }
   ],
   "source": [
    "@code_llvm f(2.0,5.0)"
   ]
  },
  {
   "cell_type": "markdown",
   "metadata": {},
   "source": [
    "Notice that when `f` is the function that takes in two `Int`s, `Int`s add to\n",
    "give an `Int` and thus `f` outputs an `Int`. When `f` is the function that\n",
    "takes two `Float64`s, `f` returns a `Float64`. Thus in the code:"
   ]
  },
  {
   "cell_type": "code",
   "execution_count": 5,
   "metadata": {},
   "outputs": [
    {
     "name": "stdout",
     "output_type": "stream",
     "text": [
      "\n",
      ";  @ In[5]:2 within `g'\n",
      "define i64 @julia_g_17453(i64, i64) {\n",
      "top:\n",
      ";  @ In[5]:5 within `g'\n",
      "; ┌ @ In[1]:1 within `f'\n",
      "; │┌ @ int.jl:53 within `+'\n",
      "    %2 = add i64 %0, 6\n",
      "; └└\n",
      ";  @ In[5]:6 within `g'\n",
      "; ┌ @ In[1]:1 within `f'\n",
      "; │┌ @ int.jl:53 within `+'\n",
      "    %3 = add i64 %2, %1\n",
      "; └└\n",
      "  ret i64 %3\n",
      "}\n"
     ]
    }
   ],
   "source": [
    "function g(x,y)\n",
    "  a = 4\n",
    "  b = 2\n",
    "  c = f(x,a)\n",
    "  d = f(b,c)\n",
    "  f(d,y)\n",
    "end\n",
    "\n",
    "@code_llvm g(2,5)"
   ]
  },
  {
   "cell_type": "markdown",
   "metadata": {},
   "source": [
    "`g` on two `Int` inputs is a function that has `Int`s at every step along the\n",
    "way and spits out an `Int`. We can use the `@code_warntype` macro to better\n",
    "see the inference along the steps of the function:"
   ]
  },
  {
   "cell_type": "code",
   "execution_count": 6,
   "metadata": {},
   "outputs": [
    {
     "name": "stdout",
     "output_type": "stream",
     "text": [
      "Variables\n",
      "  #self#\u001b[36m::Core.Compiler.Const(g, false)\u001b[39m\n",
      "  x\u001b[36m::Int64\u001b[39m\n",
      "  y\u001b[36m::Int64\u001b[39m\n",
      "  a\u001b[36m::Int64\u001b[39m\n",
      "  b\u001b[36m::Int64\u001b[39m\n",
      "  c\u001b[36m::Int64\u001b[39m\n",
      "  d\u001b[36m::Int64\u001b[39m\n",
      "\n",
      "Body\u001b[36m::Int64\u001b[39m\n",
      "\u001b[90m1 ─\u001b[39m      (a = 4)\n",
      "\u001b[90m│  \u001b[39m      (b = 2)\n",
      "\u001b[90m│  \u001b[39m      (c = Main.f(x, a::Core.Compiler.Const(4, false)))\n",
      "\u001b[90m│  \u001b[39m      (d = Main.f(b::Core.Compiler.Const(2, false), c))\n",
      "\u001b[90m│  \u001b[39m %5 = Main.f(d, y)\u001b[36m::Int64\u001b[39m\n",
      "\u001b[90m└──\u001b[39m      return %5\n"
     ]
    }
   ],
   "source": [
    "@code_warntype g(2,5)"
   ]
  },
  {
   "cell_type": "markdown",
   "metadata": {},
   "source": [
    "What happens on mixtures?"
   ]
  },
  {
   "cell_type": "code",
   "execution_count": 7,
   "metadata": {},
   "outputs": [
    {
     "name": "stdout",
     "output_type": "stream",
     "text": [
      "\n",
      ";  @ In[1]:1 within `f'\n",
      "define double @julia_f_17546(double, i64) {\n",
      "top:\n",
      "; ┌ @ promotion.jl:311 within `+'\n",
      "; │┌ @ promotion.jl:282 within `promote'\n",
      "; ││┌ @ promotion.jl:259 within `_promote'\n",
      "; │││┌ @ number.jl:7 within `convert'\n",
      "; ││││┌ @ float.jl:60 within `Float64'\n",
      "       %2 = sitofp i64 %1 to double\n",
      "; │└└└└\n",
      "; │ @ promotion.jl:311 within `+' @ float.jl:401\n",
      "   %3 = fadd double %2, %0\n",
      "; └\n",
      "  ret double %3\n",
      "}\n"
     ]
    }
   ],
   "source": [
    "@code_llvm f(2.0,5)"
   ]
  },
  {
   "cell_type": "markdown",
   "metadata": {},
   "source": [
    "When we add an `Int` to a `Float64`, we promote the `Int` to a `Float64` and then\n",
    "perform the `+` between two `Float64`s. When we go to the full function, we\n",
    "see that it can still infer:"
   ]
  },
  {
   "cell_type": "code",
   "execution_count": 8,
   "metadata": {},
   "outputs": [
    {
     "name": "stdout",
     "output_type": "stream",
     "text": [
      "Variables\n",
      "  #self#\u001b[36m::Core.Compiler.Const(g, false)\u001b[39m\n",
      "  x\u001b[36m::Float64\u001b[39m\n",
      "  y\u001b[36m::Int64\u001b[39m\n",
      "  a\u001b[36m::Int64\u001b[39m\n",
      "  b\u001b[36m::Int64\u001b[39m\n",
      "  c\u001b[36m::Float64\u001b[39m\n",
      "  d\u001b[36m::Float64\u001b[39m\n",
      "\n",
      "Body\u001b[36m::Float64\u001b[39m\n",
      "\u001b[90m1 ─\u001b[39m      (a = 4)\n",
      "\u001b[90m│  \u001b[39m      (b = 2)\n",
      "\u001b[90m│  \u001b[39m      (c = Main.f(x, a::Core.Compiler.Const(4, false)))\n",
      "\u001b[90m│  \u001b[39m      (d = Main.f(b::Core.Compiler.Const(2, false), c))\n",
      "\u001b[90m│  \u001b[39m %5 = Main.f(d, y)\u001b[36m::Float64\u001b[39m\n",
      "\u001b[90m└──\u001b[39m      return %5\n"
     ]
    }
   ],
   "source": [
    "@code_warntype g(2.0,5)"
   ]
  },
  {
   "cell_type": "markdown",
   "metadata": {},
   "source": [
    "and it uses this to build a very efficient assembly code because it knows exactly\n",
    "what the types will be at every step:"
   ]
  },
  {
   "cell_type": "code",
   "execution_count": 9,
   "metadata": {},
   "outputs": [
    {
     "name": "stdout",
     "output_type": "stream",
     "text": [
      "\n",
      ";  @ In[5]:2 within `g'\n",
      "define double @julia_g_17547(double, i64) {\n",
      "top:\n",
      ";  @ In[5]:4 within `g'\n",
      "; ┌ @ In[1]:1 within `f'\n",
      "; │┌ @ promotion.jl:311 within `+' @ float.jl:401\n",
      "    %2 = fadd double %0, 4.000000e+00\n",
      "; └└\n",
      ";  @ In[5]:5 within `g'\n",
      "; ┌ @ In[1]:1 within `f'\n",
      "; │┌ @ promotion.jl:311 within `+' @ float.jl:401\n",
      "    %3 = fadd double %2, 2.000000e+00\n",
      "; └└\n",
      ";  @ In[5]:6 within `g'\n",
      "; ┌ @ In[1]:1 within `f'\n",
      "; │┌ @ promotion.jl:311 within `+'\n",
      "; ││┌ @ promotion.jl:282 within `promote'\n",
      "; │││┌ @ promotion.jl:259 within `_promote'\n",
      "; ││││┌ @ number.jl:7 within `convert'\n",
      "; │││││┌ @ float.jl:60 within `Float64'\n",
      "        %4 = sitofp i64 %1 to double\n",
      "; ││└└└└\n",
      "; ││ @ promotion.jl:311 within `+' @ float.jl:401\n",
      "    %5 = fadd double %3, %4\n",
      "; └└\n",
      "  ret double %5\n",
      "}\n"
     ]
    }
   ],
   "source": [
    "@code_llvm g(2.0,5)"
   ]
  },
  {
   "cell_type": "markdown",
   "metadata": {},
   "source": [
    "(notice how it handles the constant *literals* 4 and 2: it converted them at\n",
    "compile time to reduce the algorithm to 3 floating point additions).\n",
    "\n",
    "### Type Stability\n",
    "\n",
    "Why is the inference algorithm able to infer all of the types of `g`? It's\n",
    "because it knows the types coming out of `f` at compile time. Given an `Int`\n",
    "and a `Float64`, `f` will always output a `Float64`, and thus it can continue\n",
    "with inference knowing that `c`, `d`, and eventually the output is `Float64`.\n",
    "Thus in order for this to occur, we need that the type of the output on our\n",
    "function is directly inferred from the type of the input. This property is\n",
    "known as type-stability.\n",
    "\n",
    "An example of breaking it is as follows:"
   ]
  },
  {
   "cell_type": "code",
   "execution_count": 10,
   "metadata": {},
   "outputs": [
    {
     "data": {
      "text/plain": [
       "h (generic function with 1 method)"
      ]
     },
     "execution_count": 10,
     "metadata": {},
     "output_type": "execute_result"
    }
   ],
   "source": [
    "function h(x,y)\n",
    "  out = x + y\n",
    "  rand() < 0.5 ? out : Float64(out)\n",
    "end"
   ]
  },
  {
   "cell_type": "markdown",
   "metadata": {},
   "source": [
    "Here, on an integer input the output's type is randomly either Int or Float64,\n",
    "and thus the output is unknown:"
   ]
  },
  {
   "cell_type": "code",
   "execution_count": 11,
   "metadata": {},
   "outputs": [
    {
     "name": "stdout",
     "output_type": "stream",
     "text": [
      "Variables\n",
      "  #self#\u001b[36m::Core.Compiler.Const(h, false)\u001b[39m\n",
      "  x\u001b[36m::Int64\u001b[39m\n",
      "  y\u001b[36m::Int64\u001b[39m\n",
      "  out\u001b[36m::Int64\u001b[39m\n",
      "\n",
      "Body\u001b[91m\u001b[1m::Union{Float64, Int64}\u001b[22m\u001b[39m\n",
      "\u001b[90m1 ─\u001b[39m      (out = x + y)\n",
      "\u001b[90m│  \u001b[39m %2 = Main.rand()\u001b[36m::Float64\u001b[39m\n",
      "\u001b[90m│  \u001b[39m %3 = (%2 < 0.5)\u001b[36m::Bool\u001b[39m\n",
      "\u001b[90m└──\u001b[39m      goto #3 if not %3\n",
      "\u001b[90m2 ─\u001b[39m      return out\n",
      "\u001b[90m3 ─\u001b[39m %6 = Main.Float64(out)\u001b[36m::Float64\u001b[39m\n",
      "\u001b[90m└──\u001b[39m      return %6\n"
     ]
    }
   ],
   "source": [
    "@code_warntype h(2,5)"
   ]
  },
  {
   "cell_type": "markdown",
   "metadata": {},
   "source": [
    "This means that its output type is `Union{Int,Float64}` (Julia uses union types\n",
    "to keep the types still somewhat constrained). Once there are multiple choices,\n",
    "those need to get propogated through the compiler, and all subsequent calculations\n",
    "are the result of either being an `Int` or a `Float64`.\n",
    "\n",
    "(Note that Julia has small union optimizations, so if this union is of size\n",
    "4 or less then Julia will still be able to optimize it quite a bit.)\n",
    "\n",
    "### Multiple Dispatch\n",
    "\n",
    "The `+` function on numbers was implemented in Julia, so how were these rules all\n",
    "written down? The answer is multiple dispatch. In Julia, you can tell a function\n",
    "how to act differently on different types by using type assertions on the\n",
    "input values. For example, let's make a function that computes `2x + y` on `Int`\n",
    "and `x/y` on `Float64`:"
   ]
  },
  {
   "cell_type": "code",
   "execution_count": 12,
   "metadata": {},
   "outputs": [
    {
     "name": "stdout",
     "output_type": "stream",
     "text": [
      "ff(2, 5) = 9\n",
      "ff(2.0, 5.0) = 0.4\n"
     ]
    },
    {
     "data": {
      "text/plain": [
       "0.4"
      ]
     },
     "execution_count": 12,
     "metadata": {},
     "output_type": "execute_result"
    }
   ],
   "source": [
    "ff(x::Int,y::Int) = 2x + y\n",
    "ff(x::Float64,y::Float64) = x/y\n",
    "@show ff(2,5)\n",
    "@show ff(2.0,5.0)"
   ]
  },
  {
   "cell_type": "markdown",
   "metadata": {},
   "source": [
    "The `+` function in Julia is just defined as `+(a,b)`, and we can actually\n",
    "point to that code in the Julia distribution:"
   ]
  },
  {
   "cell_type": "code",
   "execution_count": 13,
   "metadata": {},
   "outputs": [
    {
     "data": {
      "text/html": [
       "+(x::<b>Number</b>, y::<b>Number</b>) in Base at <a href=\"https://github.com/JuliaLang/julia/tree/2d5741174ce3e6a394010d2e470e4269ca54607f/base/promotion.jl#L311\" target=\"_blank\">promotion.jl:311</a>"
      ],
      "text/plain": [
       "+(x::Number, y::Number) in Base at promotion.jl:311"
      ]
     },
     "execution_count": 13,
     "metadata": {},
     "output_type": "execute_result"
    }
   ],
   "source": [
    "@which +(2.0,5)"
   ]
  },
  {
   "cell_type": "markdown",
   "metadata": {},
   "source": [
    "To control at a higher level, Julia uses *abstract types*. For example,\n",
    "`Float64 <: AbstractFloat`, meaning `Float64`s are a subtype of `AbstractFloat`.\n",
    "We also have that `Int <: Integer`, while both `AbstractFloat <: Number` and\n",
    "`Integer <: Number`.\n",
    "\n",
    "![](https://upload.wikimedia.org/wikipedia/commons/thumb/4/40/Type-hierarchy-for-julia-numbers.png/800px-Type-hierarchy-for-julia-numbers.png)\n",
    "\n",
    "Julia allows the user to define dispatches at a higher level, and the version\n",
    "that is called is the most strict version that is correct. For example, right\n",
    "now with `ff` we will get a `MethodError` if we call it between a `Int` and a\n",
    "`Float64` because no such method exists:"
   ]
  },
  {
   "cell_type": "code",
   "execution_count": 14,
   "metadata": {},
   "outputs": [
    {
     "ename": "MethodError",
     "evalue": "MethodError: no method matching ff(::Float64, ::Int64)\nClosest candidates are:\n  ff(::Float64, !Matched::Float64) at In[12]:2\n  ff(!Matched::Int64, ::Int64) at In[12]:1",
     "output_type": "error",
     "traceback": [
      "MethodError: no method matching ff(::Float64, ::Int64)\nClosest candidates are:\n  ff(::Float64, !Matched::Float64) at In[12]:2\n  ff(!Matched::Int64, ::Int64) at In[12]:1",
      "",
      "Stacktrace:",
      " [1] top-level scope at In[14]:1"
     ]
    }
   ],
   "source": [
    "ff(2.0,5)"
   ]
  },
  {
   "cell_type": "markdown",
   "metadata": {},
   "source": [
    "However, we can add a *fallback method* to the function `ff` for two numbers:"
   ]
  },
  {
   "cell_type": "code",
   "execution_count": 15,
   "metadata": {},
   "outputs": [
    {
     "data": {
      "text/plain": [
       "7.0"
      ]
     },
     "execution_count": 15,
     "metadata": {},
     "output_type": "execute_result"
    }
   ],
   "source": [
    "ff(x::Number,y::Number) = x + y\n",
    "ff(2.0,5)"
   ]
  },
  {
   "cell_type": "markdown",
   "metadata": {},
   "source": [
    "Notice that the fallback method still specailizes on the inputs:"
   ]
  },
  {
   "cell_type": "code",
   "execution_count": 16,
   "metadata": {},
   "outputs": [
    {
     "name": "stdout",
     "output_type": "stream",
     "text": [
      "\n",
      ";  @ In[15]:1 within `ff'\n",
      "define double @julia_ff_17702(double, i64) {\n",
      "top:\n",
      "; ┌ @ promotion.jl:311 within `+'\n",
      "; │┌ @ promotion.jl:282 within `promote'\n",
      "; ││┌ @ promotion.jl:259 within `_promote'\n",
      "; │││┌ @ number.jl:7 within `convert'\n",
      "; ││││┌ @ float.jl:60 within `Float64'\n",
      "       %2 = sitofp i64 %1 to double\n",
      "; │└└└└\n",
      "; │ @ promotion.jl:311 within `+' @ float.jl:401\n",
      "   %3 = fadd double %2, %0\n",
      "; └\n",
      "  ret double %3\n",
      "}\n"
     ]
    }
   ],
   "source": [
    "@code_llvm ff(2.0,5)"
   ]
  },
  {
   "cell_type": "markdown",
   "metadata": {},
   "source": [
    "It's essentially just a template for what functions to possibly try and create\n",
    "given the types that are seen. When it sees `Float64` and `Int`, it knows it\n",
    "should try and create the function that does `x+y`, and once it knows it's\n",
    "`Float64` plus a `Int`, it knows it should create the function that converts the\n",
    "`Int` to a `Float64` and then does addition between two `Float64`s, and that\n",
    "is precisely the generated LLVM IR on this pair of input types.\n",
    "\n",
    "And that's essentially Julia's secret sauce: since it's always specializing its\n",
    "types on each function, if those functions themselves can infer the output, then\n",
    "the entire function can be inferred and generate optimal code, which is then\n",
    "optimized by the compiler and out comes an efficient function. If types can't\n",
    "be inferred, Julia falls back to a slower \"Python\" mode (though with\n",
    "optimizations in cases like small unions). Users then get control over this\n",
    "specialization process through multiple dispatch, which is then Julia's\n",
    "core feature since it allows adding new options without any runtime cost.\n",
    "\n",
    "### Any Fallbacks\n",
    "\n",
    "Note that `f(x,y) = x+y` is equivalent to `f(x::Any,y::Any) = x+y`, where `Any`\n",
    "is the maximal supertype of every Julia type. Thus `f(x,y) = x+y` is essentially\n",
    "a fallback for all possible input values, telling it what to do in the case that\n",
    "no other dispatches exist. However, note that this dispatch itself is not slow,\n",
    "since it will be specailized on the input types.\n",
    "\n",
    "### Ambiguities\n",
    "\n",
    "The version that is called is the most strict version that is correct. What\n",
    "happens if it's impossible to define \"the most strict version\"? For example,"
   ]
  },
  {
   "cell_type": "code",
   "execution_count": 17,
   "metadata": {},
   "outputs": [
    {
     "data": {
      "text/plain": [
       "ff (generic function with 5 methods)"
      ]
     },
     "execution_count": 17,
     "metadata": {},
     "output_type": "execute_result"
    }
   ],
   "source": [
    "ff(x::Float64,y::Number) = 5x + 2y\n",
    "ff(x::Number,y::Int) = x - y"
   ]
  },
  {
   "cell_type": "markdown",
   "metadata": {},
   "source": [
    "What should it call on `f(2.0,5)` now?  `ff(x::Float64,y::Number)` and\n",
    "`ff(x::Number,y::Int)` are both more strict than `ff(x::Number,y::Number)`,\n",
    "so one of them should be called, but neither are more strict than each other,\n",
    "and thus you will end up with an ambiguity error:"
   ]
  },
  {
   "cell_type": "code",
   "execution_count": 18,
   "metadata": {},
   "outputs": [
    {
     "ename": "MethodError",
     "evalue": "MethodError: ff(::Float64, ::Int64) is ambiguous. Candidates:\n  ff(x::Float64, y::Number) in Main at In[17]:1\n  ff(x::Number, y::Int64) in Main at In[17]:2\nPossible fix, define\n  ff(::Float64, ::Int64)",
     "output_type": "error",
     "traceback": [
      "MethodError: ff(::Float64, ::Int64) is ambiguous. Candidates:\n  ff(x::Float64, y::Number) in Main at In[17]:1\n  ff(x::Number, y::Int64) in Main at In[17]:2\nPossible fix, define\n  ff(::Float64, ::Int64)",
      "",
      "Stacktrace:",
      " [1] top-level scope at In[18]:1"
     ]
    }
   ],
   "source": [
    "ff(2.0,5)"
   ]
  },
  {
   "cell_type": "markdown",
   "metadata": {},
   "source": [
    "### Untyped Containers\n",
    "\n",
    "One way to ruin inference is to use an untyped container. For example, the\n",
    "array constructors use type inference themselves to know what their container\n",
    "type will be. Therefore,"
   ]
  },
  {
   "cell_type": "code",
   "execution_count": 19,
   "metadata": {},
   "outputs": [
    {
     "data": {
      "text/plain": [
       "3-element Array{Float64,1}:\n",
       " 1.0\n",
       " 2.0\n",
       " 3.0"
      ]
     },
     "execution_count": 19,
     "metadata": {},
     "output_type": "execute_result"
    }
   ],
   "source": [
    "a = [1.0,2.0,3.0]"
   ]
  },
  {
   "cell_type": "markdown",
   "metadata": {},
   "source": [
    "uses type inference on its inputs to know that it should be something that holds\n",
    "`Float64` values, and thus it is a 1-dimensional array of `Float64` values, or\n",
    "`Array{Float64,1}`. The accesses:"
   ]
  },
  {
   "cell_type": "code",
   "execution_count": 20,
   "metadata": {},
   "outputs": [
    {
     "data": {
      "text/plain": [
       "1.0"
      ]
     },
     "execution_count": 20,
     "metadata": {},
     "output_type": "execute_result"
    }
   ],
   "source": [
    "a[1]"
   ]
  },
  {
   "cell_type": "markdown",
   "metadata": {},
   "source": [
    "are then inferred, since this is just the function `getindex(a::Array{T},i) where T`\n",
    "which is a function that will produce something of type `T`, the element type of\n",
    "the array. However, if we tell Julia to make an array with element type `Any`:"
   ]
  },
  {
   "cell_type": "code",
   "execution_count": 21,
   "metadata": {},
   "outputs": [
    {
     "data": {
      "text/plain": [
       "3-element Array{Any,1}:\n",
       "  \"1.0\"\n",
       " 2     \n",
       " 2.0   "
      ]
     },
     "execution_count": 21,
     "metadata": {},
     "output_type": "execute_result"
    }
   ],
   "source": [
    "b = [\"1.0\",2,2.0]"
   ]
  },
  {
   "cell_type": "markdown",
   "metadata": {},
   "source": [
    "(here, Julia falls back to `Any` because it cannot promote the values to the same\n",
    "type), then the best inference can do on the output is to say it could have\n",
    "any type:"
   ]
  },
  {
   "cell_type": "code",
   "execution_count": 22,
   "metadata": {},
   "outputs": [
    {
     "name": "stdout",
     "output_type": "stream",
     "text": [
      "Variables\n",
      "  #self#\u001b[36m::Core.Compiler.Const(bad_container, false)\u001b[39m\n",
      "  a\u001b[36m::Array{Float64,1}\u001b[39m\n",
      "\n",
      "Body\u001b[36m::Float64\u001b[39m\n",
      "\u001b[90m1 ─\u001b[39m %1 = Base.getindex(a, 2)\u001b[36m::Float64\u001b[39m\n",
      "\u001b[90m└──\u001b[39m      return %1\n"
     ]
    }
   ],
   "source": [
    "function bad_container(a)\n",
    "  a[2]\n",
    "end\n",
    "@code_warntype bad_container(a)"
   ]
  },
  {
   "cell_type": "code",
   "execution_count": 23,
   "metadata": {},
   "outputs": [
    {
     "name": "stdout",
     "output_type": "stream",
     "text": [
      "Variables\n",
      "  #self#\u001b[36m::Core.Compiler.Const(bad_container, false)\u001b[39m\n",
      "  a\u001b[36m::Array{Any,1}\u001b[39m\n",
      "\n",
      "Body\u001b[91m\u001b[1m::Any\u001b[22m\u001b[39m\n",
      "\u001b[90m1 ─\u001b[39m %1 = Base.getindex(a, 2)\u001b[91m\u001b[1m::Any\u001b[22m\u001b[39m\n",
      "\u001b[90m└──\u001b[39m      return %1\n"
     ]
    }
   ],
   "source": [
    "@code_warntype bad_container(b)"
   ]
  },
  {
   "cell_type": "markdown",
   "metadata": {},
   "source": [
    "This is one common way that type inference can breakdown. For example, even if\n",
    "the array is all numbers, we can still break inference:"
   ]
  },
  {
   "cell_type": "code",
   "execution_count": 24,
   "metadata": {},
   "outputs": [
    {
     "name": "stdout",
     "output_type": "stream",
     "text": [
      "Variables\n",
      "  #self#\u001b[36m::Core.Compiler.Const(q, false)\u001b[39m\n",
      "  x\u001b[36m::Array{Number,1}\u001b[39m\n",
      "  a\u001b[36m::Int64\u001b[39m\n",
      "  b\u001b[36m::Int64\u001b[39m\n",
      "  c\u001b[91m\u001b[1m::Any\u001b[22m\u001b[39m\n",
      "  d\u001b[91m\u001b[1m::Any\u001b[22m\u001b[39m\n",
      "\n",
      "Body\u001b[91m\u001b[1m::Any\u001b[22m\u001b[39m\n",
      "\u001b[90m1 ─\u001b[39m      (a = 4)\n",
      "\u001b[90m│  \u001b[39m      (b = 2)\n",
      "\u001b[90m│  \u001b[39m %3 = Base.getindex(x, 1)\u001b[91m\u001b[1m::Number\u001b[22m\u001b[39m\n",
      "\u001b[90m│  \u001b[39m      (c = Main.f(%3, a::Core.Compiler.Const(4, false)))\n",
      "\u001b[90m│  \u001b[39m      (d = Main.f(b::Core.Compiler.Const(2, false), c))\n",
      "\u001b[90m│  \u001b[39m %6 = d\u001b[91m\u001b[1m::Any\u001b[22m\u001b[39m\n",
      "\u001b[90m│  \u001b[39m %7 = Base.getindex(x, 2)\u001b[91m\u001b[1m::Number\u001b[22m\u001b[39m\n",
      "\u001b[90m│  \u001b[39m %8 = Main.f(%6, %7)\u001b[91m\u001b[1m::Any\u001b[22m\u001b[39m\n",
      "\u001b[90m└──\u001b[39m      return %8\n"
     ]
    }
   ],
   "source": [
    "x = Number[1.0,3]\n",
    "function q(x)\n",
    "  a = 4\n",
    "  b = 2\n",
    "  c = f(x[1],a)\n",
    "  d = f(b,c)\n",
    "  f(d,x[2])\n",
    "end\n",
    "@code_warntype q(x)"
   ]
  },
  {
   "cell_type": "markdown",
   "metadata": {},
   "source": [
    "Here the type inference algorithm quickly gives up and infers to `Any`, losing\n",
    "all specialization and automatically switching to Python-style runtime type\n",
    "checking.\n",
    "\n",
    "### Type definitions\n",
    "\n",
    "### Value types and isbits\n",
    "\n",
    "In Julia, types which can fully inferred and which are composed of primitive\n",
    "or `isbits` types are value types. This means that, inside of an array, their\n",
    "values are the values of the type itself, and not a pointer to the values.\n",
    "\n",
    "You can check if the type is a value type through `isbits`:"
   ]
  },
  {
   "cell_type": "code",
   "execution_count": 25,
   "metadata": {},
   "outputs": [
    {
     "data": {
      "text/plain": [
       "true"
      ]
     },
     "execution_count": 25,
     "metadata": {},
     "output_type": "execute_result"
    }
   ],
   "source": [
    "isbits(1.0)"
   ]
  },
  {
   "cell_type": "markdown",
   "metadata": {},
   "source": [
    "Note that a Julia `struct` which holds i`sbits` values is `isbits` as well,\n",
    "if it's fully inferred:"
   ]
  },
  {
   "cell_type": "code",
   "execution_count": 26,
   "metadata": {},
   "outputs": [
    {
     "data": {
      "text/plain": [
       "true"
      ]
     },
     "execution_count": 26,
     "metadata": {},
     "output_type": "execute_result"
    }
   ],
   "source": [
    "struct MyComplex\n",
    "  real::Float64\n",
    "  imag::Float64\n",
    "end\n",
    "isbits(MyComplex(1.0,1.0))"
   ]
  },
  {
   "cell_type": "markdown",
   "metadata": {},
   "source": [
    "We can see that the compiler knows how to use this efficiently since it knows\n",
    "that what comes out is always `Float64`:"
   ]
  },
  {
   "cell_type": "code",
   "execution_count": 27,
   "metadata": {},
   "outputs": [
    {
     "data": {
      "text/plain": [
       "MyComplex(8.0, 2.0)"
      ]
     },
     "execution_count": 27,
     "metadata": {},
     "output_type": "execute_result"
    }
   ],
   "source": [
    "Base.:+(a::MyComplex,b::MyComplex) = MyComplex(a.real+b.real,a.imag+b.imag)\n",
    "Base.:+(a::MyComplex,b::Int) = MyComplex(a.real+b,a.imag)\n",
    "Base.:+(b::Int,a::MyComplex) = MyComplex(a.real+b,a.imag)\n",
    "g(MyComplex(1.0,1.0),MyComplex(1.0,1.0))"
   ]
  },
  {
   "cell_type": "code",
   "execution_count": 28,
   "metadata": {},
   "outputs": [
    {
     "name": "stdout",
     "output_type": "stream",
     "text": [
      "Variables\n",
      "  #self#\u001b[36m::Core.Compiler.Const(g, false)\u001b[39m\n",
      "  x\u001b[36m::MyComplex\u001b[39m\n",
      "  y\u001b[36m::MyComplex\u001b[39m\n",
      "  a\u001b[36m::Int64\u001b[39m\n",
      "  b\u001b[36m::Int64\u001b[39m\n",
      "  c\u001b[36m::MyComplex\u001b[39m\n",
      "  d\u001b[36m::MyComplex\u001b[39m\n",
      "\n",
      "Body\u001b[36m::MyComplex\u001b[39m\n",
      "\u001b[90m1 ─\u001b[39m      (a = 4)\n",
      "\u001b[90m│  \u001b[39m      (b = 2)\n",
      "\u001b[90m│  \u001b[39m      (c = Main.f(x, a::Core.Compiler.Const(4, false)))\n",
      "\u001b[90m│  \u001b[39m      (d = Main.f(b::Core.Compiler.Const(2, false), c))\n",
      "\u001b[90m│  \u001b[39m %5 = Main.f(d, y)\u001b[36m::MyComplex\u001b[39m\n",
      "\u001b[90m└──\u001b[39m      return %5\n"
     ]
    }
   ],
   "source": [
    "@code_warntype g(MyComplex(1.0,1.0),MyComplex(1.0,1.0))"
   ]
  },
  {
   "cell_type": "code",
   "execution_count": 29,
   "metadata": {},
   "outputs": [
    {
     "name": "stdout",
     "output_type": "stream",
     "text": [
      "\n",
      ";  @ In[5]:2 within `g'\n",
      "define void @julia_g_17860({ double, double }* noalias nocapture sret, { double, double } addrspace(11)* nocapture nonnull readonly dereferenceable(16), { double, double } addrspace(11)* nocapture nonnull readonly dereferenceable(16)) {\n",
      "top:\n",
      ";  @ In[5]:4 within `g'\n",
      "; ┌ @ In[1]:1 within `f'\n",
      "; │┌ @ In[27]:2 within `+'\n",
      "; ││┌ @ Base.jl:20 within `getproperty'\n",
      "     %3 = getelementptr inbounds { double, double }, { double, double } addrspace(11)* %1, i64 0, i32 0\n",
      "; ││└\n",
      "; ││ @ In[27]:2 within `+' @ promotion.jl:311 @ float.jl:401\n",
      "    %4 = load double, double addrspace(11)* %3, align 8\n",
      "    %5 = fadd double %4, 4.000000e+00\n",
      "; ││ @ In[27]:2 within `+'\n",
      "; ││┌ @ Base.jl:20 within `getproperty'\n",
      "     %6 = getelementptr inbounds { double, double }, { double, double } addrspace(11)* %1, i64 0, i32 1\n",
      "; └└└\n",
      ";  @ In[5]:5 within `g'\n",
      "; ┌ @ In[1]:1 within `f'\n",
      "; │┌ @ In[27]:3 within `+' @ promotion.jl:311 @ float.jl:401\n",
      "    %7 = fadd double %5, 2.000000e+00\n",
      "; └└\n",
      ";  @ In[5]:6 within `g'\n",
      "; ┌ @ In[1]:1 within `f'\n",
      "; │┌ @ In[27]:1 within `+' @ float.jl:401\n",
      "    %8 = load double, double addrspace(11)* %6, align 8\n",
      "    %9 = bitcast { double, double } addrspace(11)* %2 to <2 x double> addrspace(11)*\n",
      "    %10 = load <2 x double>, <2 x double> addrspace(11)* %9, align 8\n",
      "    %11 = insertelement <2 x double> undef, double %7, i32 0\n",
      "    %12 = insertelement <2 x double> %11, double %8, i32 1\n",
      "    %13 = fadd <2 x double> %10, %12\n",
      "; └└\n",
      "  %14 = bitcast { double, double }* %0 to <2 x double>*\n",
      "  store <2 x double> %13, <2 x double>* %14, align 8\n",
      "  ret void\n",
      "}\n"
     ]
    }
   ],
   "source": [
    "@code_llvm g(MyComplex(1.0,1.0),MyComplex(1.0,1.0))"
   ]
  },
  {
   "cell_type": "markdown",
   "metadata": {},
   "source": [
    "Note that the compiled code simply works directly on the `double` pieces.\n",
    "We can also make this be concrete without pre-specifying that the values always\n",
    "have to be `Float64` by using a type parameter."
   ]
  },
  {
   "cell_type": "code",
   "execution_count": 30,
   "metadata": {},
   "outputs": [
    {
     "data": {
      "text/plain": [
       "true"
      ]
     },
     "execution_count": 30,
     "metadata": {},
     "output_type": "execute_result"
    }
   ],
   "source": [
    "struct MyParameterizedComplex{T}\n",
    "  real::T\n",
    "  imag::T\n",
    "end\n",
    "isbits(MyParameterizedComplex(1.0,1.0))"
   ]
  },
  {
   "cell_type": "markdown",
   "metadata": {},
   "source": [
    "Note that `MyParameterizedComplex{T}` is a concrete type for every `T`: it is a\n",
    "shorthand form for defining a whole family of types."
   ]
  },
  {
   "cell_type": "code",
   "execution_count": 31,
   "metadata": {},
   "outputs": [
    {
     "data": {
      "text/plain": [
       "MyParameterizedComplex{Float64}(8.0, 2.0)"
      ]
     },
     "execution_count": 31,
     "metadata": {},
     "output_type": "execute_result"
    }
   ],
   "source": [
    "Base.:+(a::MyParameterizedComplex,b::MyParameterizedComplex) = MyParameterizedComplex(a.real+b.real,a.imag+b.imag)\n",
    "Base.:+(a::MyParameterizedComplex,b::Int) = MyParameterizedComplex(a.real+b,a.imag)\n",
    "Base.:+(b::Int,a::MyParameterizedComplex) = MyParameterizedComplex(a.real+b,a.imag)\n",
    "g(MyParameterizedComplex(1.0,1.0),MyParameterizedComplex(1.0,1.0))"
   ]
  },
  {
   "cell_type": "code",
   "execution_count": 32,
   "metadata": {},
   "outputs": [
    {
     "name": "stdout",
     "output_type": "stream",
     "text": [
      "Variables\n",
      "  #self#\u001b[36m::Core.Compiler.Const(g, false)\u001b[39m\n",
      "  x\u001b[36m::MyParameterizedComplex{Float64}\u001b[39m\n",
      "  y\u001b[36m::MyParameterizedComplex{Float64}\u001b[39m\n",
      "  a\u001b[36m::Int64\u001b[39m\n",
      "  b\u001b[36m::Int64\u001b[39m\n",
      "  c\u001b[36m::MyParameterizedComplex{Float64}\u001b[39m\n",
      "  d\u001b[36m::MyParameterizedComplex{Float64}\u001b[39m\n",
      "\n",
      "Body\u001b[36m::MyParameterizedComplex{Float64}\u001b[39m\n",
      "\u001b[90m1 ─\u001b[39m      (a = 4)\n",
      "\u001b[90m│  \u001b[39m      (b = 2)\n",
      "\u001b[90m│  \u001b[39m      (c = Main.f(x, a::Core.Compiler.Const(4, false)))\n",
      "\u001b[90m│  \u001b[39m      (d = Main.f(b::Core.Compiler.Const(2, false), c))\n",
      "\u001b[90m│  \u001b[39m %5 = Main.f(d, y)\u001b[36m::MyParameterizedComplex{Float64}\u001b[39m\n",
      "\u001b[90m└──\u001b[39m      return %5\n"
     ]
    }
   ],
   "source": [
    "@code_warntype g(MyParameterizedComplex(1.0,1.0),MyParameterizedComplex(1.0,1.0))"
   ]
  },
  {
   "cell_type": "markdown",
   "metadata": {},
   "source": [
    "See that this code also automatically works and compiles efficiently for\n",
    "`Float32` as well:"
   ]
  },
  {
   "cell_type": "code",
   "execution_count": 33,
   "metadata": {},
   "outputs": [
    {
     "name": "stdout",
     "output_type": "stream",
     "text": [
      "Variables\n",
      "  #self#\u001b[36m::Core.Compiler.Const(g, false)\u001b[39m\n",
      "  x\u001b[36m::MyParameterizedComplex{Float32}\u001b[39m\n",
      "  y\u001b[36m::MyParameterizedComplex{Float32}\u001b[39m\n",
      "  a\u001b[36m::Int64\u001b[39m\n",
      "  b\u001b[36m::Int64\u001b[39m\n",
      "  c\u001b[36m::MyParameterizedComplex{Float32}\u001b[39m\n",
      "  d\u001b[36m::MyParameterizedComplex{Float32}\u001b[39m\n",
      "\n",
      "Body\u001b[36m::MyParameterizedComplex{Float32}\u001b[39m\n",
      "\u001b[90m1 ─\u001b[39m      (a = 4)\n",
      "\u001b[90m│  \u001b[39m      (b = 2)\n",
      "\u001b[90m│  \u001b[39m      (c = Main.f(x, a::Core.Compiler.Const(4, false)))\n",
      "\u001b[90m│  \u001b[39m      (d = Main.f(b::Core.Compiler.Const(2, false), c))\n",
      "\u001b[90m│  \u001b[39m %5 = Main.f(d, y)\u001b[36m::MyParameterizedComplex{Float32}\u001b[39m\n",
      "\u001b[90m└──\u001b[39m      return %5\n"
     ]
    }
   ],
   "source": [
    "@code_warntype g(MyParameterizedComplex(1.0f0,1.0f0),MyParameterizedComplex(1.0f0,1.0f0))"
   ]
  },
  {
   "cell_type": "code",
   "execution_count": 34,
   "metadata": {},
   "outputs": [
    {
     "name": "stdout",
     "output_type": "stream",
     "text": [
      "\n",
      ";  @ In[5]:2 within `g'\n",
      "define { float, float } @julia_g_17930({ float, float } addrspace(11)* nocapture nonnull readonly dereferenceable(8), { float, float } addrspace(11)* nocapture nonnull readonly dereferenceable(8)) {\n",
      "top:\n",
      ";  @ In[5]:4 within `g'\n",
      "; ┌ @ In[1]:1 within `f'\n",
      "; │┌ @ In[31]:2 within `+'\n",
      "; ││┌ @ Base.jl:20 within `getproperty'\n",
      "     %2 = getelementptr inbounds { float, float }, { float, float } addrspace(11)* %0, i64 0, i32 0\n",
      "; ││└\n",
      "; ││ @ In[31]:2 within `+' @ promotion.jl:311 @ float.jl:400\n",
      "    %3 = load float, float addrspace(11)* %2, align 4\n",
      "    %4 = fadd float %3, 4.000000e+00\n",
      "; ││ @ In[31]:2 within `+'\n",
      "; ││┌ @ Base.jl:20 within `getproperty'\n",
      "     %5 = getelementptr inbounds { float, float }, { float, float } addrspace(11)* %0, i64 0, i32 1\n",
      "; └└└\n",
      ";  @ In[5]:5 within `g'\n",
      "; ┌ @ In[1]:1 within `f'\n",
      "; │┌ @ In[31]:3 within `+' @ promotion.jl:311 @ float.jl:400\n",
      "    %6 = fadd float %4, 2.000000e+00\n",
      "; └└\n",
      ";  @ In[5]:6 within `g'\n",
      "; ┌ @ In[1]:1 within `f'\n",
      "; │┌ @ In[31]:1 within `+'\n",
      "; ││┌ @ Base.jl:20 within `getproperty'\n",
      "     %7 = getelementptr inbounds { float, float }, { float, float } addrspace(11)* %1, i64 0, i32 0\n",
      "; ││└\n",
      "; ││ @ In[31]:1 within `+' @ float.jl:400\n",
      "    %8 = load float, float addrspace(11)* %7, align 4\n",
      "    %9 = fadd float %8, %6\n",
      "; ││ @ In[31]:1 within `+'\n",
      "; ││┌ @ Base.jl:20 within `getproperty'\n",
      "     %10 = getelementptr inbounds { float, float }, { float, float } addrspace(11)* %1, i64 0, i32 1\n",
      "; ││└\n",
      "; ││ @ In[31]:1 within `+' @ float.jl:400\n",
      "    %11 = load float, float addrspace(11)* %5, align 4\n",
      "    %12 = load float, float addrspace(11)* %10, align 4\n",
      "    %13 = fadd float %11, %12\n",
      "; └└\n",
      "  %.fca.0.insert = insertvalue { float, float } undef, float %9, 0\n",
      "  %.fca.1.insert = insertvalue { float, float } %.fca.0.insert, float %13, 1\n",
      "  ret { float, float } %.fca.1.insert\n",
      "}\n"
     ]
    }
   ],
   "source": [
    "@code_llvm g(MyParameterizedComplex(1.0f0,1.0f0),MyParameterizedComplex(1.0f0,1.0f0))"
   ]
  },
  {
   "cell_type": "markdown",
   "metadata": {},
   "source": [
    "It is important to know that if there is any piece of a type which doesn't\n",
    "contain type information, then it cannot be isbits because then it would have\n",
    "to be compiled in such a way that the size is not known in advance. For example:"
   ]
  },
  {
   "cell_type": "code",
   "execution_count": 35,
   "metadata": {},
   "outputs": [
    {
     "data": {
      "text/plain": [
       "false"
      ]
     },
     "execution_count": 35,
     "metadata": {},
     "output_type": "execute_result"
    }
   ],
   "source": [
    "struct MySlowComplex\n",
    "  real\n",
    "  imag\n",
    "end\n",
    "isbits(MySlowComplex(1.0,1.0))"
   ]
  },
  {
   "cell_type": "code",
   "execution_count": 36,
   "metadata": {},
   "outputs": [
    {
     "data": {
      "text/plain": [
       "MySlowComplex(8.0, 2.0)"
      ]
     },
     "execution_count": 36,
     "metadata": {},
     "output_type": "execute_result"
    }
   ],
   "source": [
    "Base.:+(a::MySlowComplex,b::MySlowComplex) = MySlowComplex(a.real+b.real,a.imag+b.imag)\n",
    "Base.:+(a::MySlowComplex,b::Int) = MySlowComplex(a.real+b,a.imag)\n",
    "Base.:+(b::Int,a::MySlowComplex) = MySlowComplex(a.real+b,a.imag)\n",
    "g(MySlowComplex(1.0,1.0),MySlowComplex(1.0,1.0))"
   ]
  },
  {
   "cell_type": "code",
   "execution_count": 37,
   "metadata": {},
   "outputs": [
    {
     "name": "stdout",
     "output_type": "stream",
     "text": [
      "Variables\n",
      "  #self#\u001b[36m::Core.Compiler.Const(g, false)\u001b[39m\n",
      "  x\u001b[36m::MySlowComplex\u001b[39m\n",
      "  y\u001b[36m::MySlowComplex\u001b[39m\n",
      "  a\u001b[36m::Int64\u001b[39m\n",
      "  b\u001b[36m::Int64\u001b[39m\n",
      "  c\u001b[36m::MySlowComplex\u001b[39m\n",
      "  d\u001b[36m::MySlowComplex\u001b[39m\n",
      "\n",
      "Body\u001b[36m::MySlowComplex\u001b[39m\n",
      "\u001b[90m1 ─\u001b[39m      (a = 4)\n",
      "\u001b[90m│  \u001b[39m      (b = 2)\n",
      "\u001b[90m│  \u001b[39m      (c = Main.f(x, a::Core.Compiler.Const(4, false)))\n",
      "\u001b[90m│  \u001b[39m      (d = Main.f(b::Core.Compiler.Const(2, false), c))\n",
      "\u001b[90m│  \u001b[39m %5 = Main.f(d, y)\u001b[36m::MySlowComplex\u001b[39m\n",
      "\u001b[90m└──\u001b[39m      return %5\n"
     ]
    }
   ],
   "source": [
    "@code_warntype g(MySlowComplex(1.0,1.0),MySlowComplex(1.0,1.0))"
   ]
  },
  {
   "cell_type": "code",
   "execution_count": 38,
   "metadata": {},
   "outputs": [
    {
     "name": "stdout",
     "output_type": "stream",
     "text": [
      "\n",
      ";  @ In[5]:2 within `g'\n",
      "define nonnull %jl_value_t addrspace(10)* @japi1_g_17933(%jl_value_t addrspace(10)*, %jl_value_t addrspace(10)**, i32) #0 {\n",
      "top:\n",
      "  %3 = alloca %jl_value_t addrspace(10)*, i32 2\n",
      "  %gcframe = alloca %jl_value_t addrspace(10)*, i32 3\n",
      "  %4 = bitcast %jl_value_t addrspace(10)** %gcframe to i8*\n",
      "  call void @llvm.memset.p0i8.i32(i8* %4, i8 0, i32 24, i32 0, i1 false)\n",
      "  %5 = alloca %jl_value_t addrspace(10)**, align 8\n",
      "  store volatile %jl_value_t addrspace(10)** %1, %jl_value_t addrspace(10)*** %5, align 8\n",
      "  %thread_ptr = call i8* asm \"movq %fs:0, $0\", \"=r\"()\n",
      "  %ptls_i8 = getelementptr i8, i8* %thread_ptr, i64 -15712\n",
      "  %ptls = bitcast i8* %ptls_i8 to %jl_value_t***\n",
      "  %6 = getelementptr %jl_value_t addrspace(10)*, %jl_value_t addrspace(10)** %gcframe, i32 0\n",
      "  %7 = bitcast %jl_value_t addrspace(10)** %6 to i64*\n",
      "  store i64 2, i64* %7\n",
      "  %8 = getelementptr %jl_value_t**, %jl_value_t*** %ptls, i32 0\n",
      "  %9 = getelementptr %jl_value_t addrspace(10)*, %jl_value_t addrspace(10)** %gcframe, i32 1\n",
      "  %10 = bitcast %jl_value_t addrspace(10)** %9 to %jl_value_t***\n",
      "  %11 = load %jl_value_t**, %jl_value_t*** %8\n",
      "  store %jl_value_t** %11, %jl_value_t*** %10\n",
      "  %12 = bitcast %jl_value_t*** %8 to %jl_value_t addrspace(10)***\n",
      "  store %jl_value_t addrspace(10)** %gcframe, %jl_value_t addrspace(10)*** %12\n",
      "  %13 = load %jl_value_t addrspace(10)*, %jl_value_t addrspace(10)** %1, align 8\n",
      "  %14 = getelementptr inbounds %jl_value_t addrspace(10)*, %jl_value_t addrspace(10)** %1, i64 1\n",
      "  %15 = load %jl_value_t addrspace(10)*, %jl_value_t addrspace(10)** %14, align 8\n",
      ";  @ In[5]:4 within `g'\n",
      "; ┌ @ In[1]:1 within `f'\n",
      "   %16 = call nonnull %jl_value_t addrspace(10)* @\"julia_+_17934\"(%jl_value_t addrspace(10)* nonnull %13, i64 4)\n",
      "   %17 = getelementptr %jl_value_t addrspace(10)*, %jl_value_t addrspace(10)** %gcframe, i32 2\n",
      "   store %jl_value_t addrspace(10)* %16, %jl_value_t addrspace(10)** %17\n",
      "; └\n",
      ";  @ In[5]:5 within `g'\n",
      "; ┌ @ In[1]:1 within `f'\n",
      "   %18 = call nonnull %jl_value_t addrspace(10)* @\"julia_+_17935\"(i64 2, %jl_value_t addrspace(10)* nonnull %16)\n",
      "   %19 = getelementptr %jl_value_t addrspace(10)*, %jl_value_t addrspace(10)** %gcframe, i32 2\n",
      "   store %jl_value_t addrspace(10)* %18, %jl_value_t addrspace(10)** %19\n",
      "; └\n",
      ";  @ In[5]:6 within `g'\n",
      "; ┌ @ In[1]:1 within `f'\n",
      "   %20 = getelementptr %jl_value_t addrspace(10)*, %jl_value_t addrspace(10)** %3, i32 0\n",
      "   store %jl_value_t addrspace(10)* %18, %jl_value_t addrspace(10)** %20\n",
      "   %21 = getelementptr %jl_value_t addrspace(10)*, %jl_value_t addrspace(10)** %3, i32 1\n",
      "   store %jl_value_t addrspace(10)* %15, %jl_value_t addrspace(10)** %21\n",
      "   %22 = call nonnull %jl_value_t addrspace(10)* @\"japi1_+_17936\"(%jl_value_t addrspace(10)* addrspacecast (%jl_value_t* inttoptr (i64 140133173396480 to %jl_value_t*) to %jl_value_t addrspace(10)*), %jl_value_t addrspace(10)** %3, i32 2)\n",
      "   %23 = getelementptr %jl_value_t addrspace(10)*, %jl_value_t addrspace(10)** %gcframe, i32 1\n",
      "   %24 = load %jl_value_t addrspace(10)*, %jl_value_t addrspace(10)** %23\n",
      "   %25 = getelementptr %jl_value_t**, %jl_value_t*** %ptls, i32 0\n",
      "   %26 = bitcast %jl_value_t*** %25 to %jl_value_t addrspace(10)**\n",
      "   store %jl_value_t addrspace(10)* %24, %jl_value_t addrspace(10)** %26\n",
      "; └\n",
      "  ret %jl_value_t addrspace(10)* %22\n",
      "}\n"
     ]
    }
   ],
   "source": [
    "@code_llvm g(MySlowComplex(1.0,1.0),MySlowComplex(1.0,1.0))"
   ]
  },
  {
   "cell_type": "code",
   "execution_count": 39,
   "metadata": {},
   "outputs": [
    {
     "data": {
      "text/plain": [
       "false"
      ]
     },
     "execution_count": 39,
     "metadata": {},
     "output_type": "execute_result"
    }
   ],
   "source": [
    "struct MySlowComplex2\n",
    "  real::AbstractFloat\n",
    "  imag::AbstractFloat\n",
    "end\n",
    "isbits(MySlowComplex2(1.0,1.0))"
   ]
  },
  {
   "cell_type": "code",
   "execution_count": 40,
   "metadata": {},
   "outputs": [
    {
     "data": {
      "text/plain": [
       "MySlowComplex2(8.0, 2.0)"
      ]
     },
     "execution_count": 40,
     "metadata": {},
     "output_type": "execute_result"
    }
   ],
   "source": [
    "Base.:+(a::MySlowComplex2,b::MySlowComplex2) = MySlowComplex2(a.real+b.real,a.imag+b.imag)\n",
    "Base.:+(a::MySlowComplex2,b::Int) = MySlowComplex2(a.real+b,a.imag)\n",
    "Base.:+(b::Int,a::MySlowComplex2) = MySlowComplex2(a.real+b,a.imag)\n",
    "g(MySlowComplex2(1.0,1.0),MySlowComplex2(1.0,1.0))"
   ]
  },
  {
   "cell_type": "markdown",
   "metadata": {},
   "source": [
    "Here's the timings:"
   ]
  },
  {
   "cell_type": "code",
   "execution_count": 44,
   "metadata": {},
   "outputs": [
    {
     "name": "stdout",
     "output_type": "stream",
     "text": [
      "  19.238 ns (1 allocation: 32 bytes)\n"
     ]
    },
    {
     "data": {
      "text/plain": [
       "MyComplex(9.0, 2.0)"
      ]
     },
     "execution_count": 44,
     "metadata": {},
     "output_type": "execute_result"
    }
   ],
   "source": [
    "a = MyComplex(1.0,1.0)\n",
    "b = MyComplex(2.0,1.0)\n",
    "@btime g(a,b)"
   ]
  },
  {
   "cell_type": "code",
   "execution_count": 45,
   "metadata": {},
   "outputs": [
    {
     "name": "stdout",
     "output_type": "stream",
     "text": [
      "  101.601 ns (7 allocations: 160 bytes)\n"
     ]
    },
    {
     "data": {
      "text/plain": [
       "MySlowComplex(9.0, 2.0)"
      ]
     },
     "execution_count": 45,
     "metadata": {},
     "output_type": "execute_result"
    }
   ],
   "source": [
    "a = MySlowComplex(1.0,1.0)\n",
    "b = MySlowComplex(2.0,1.0)\n",
    "@btime g(a,b)"
   ]
  },
  {
   "cell_type": "code",
   "execution_count": 46,
   "metadata": {},
   "outputs": [
    {
     "name": "stdout",
     "output_type": "stream",
     "text": [
      "  447.475 ns (13 allocations: 256 bytes)\n"
     ]
    },
    {
     "data": {
      "text/plain": [
       "MySlowComplex2(9.0, 2.0)"
      ]
     },
     "execution_count": 46,
     "metadata": {},
     "output_type": "execute_result"
    }
   ],
   "source": [
    "a = MySlowComplex2(1.0,1.0)\n",
    "b = MySlowComplex2(2.0,1.0)\n",
    "@btime g(a,b)"
   ]
  },
  {
   "cell_type": "markdown",
   "metadata": {},
   "source": [
    "### Note on Julia\n",
    "\n",
    "Note that, because of these type specialization, value types, etc. properties,\n",
    "the number types, even ones such as `Int`, `Float64`, and `Complex`, are all\n",
    "themselves implemented in pure Julia! Thus even basic pieces can be implemented\n",
    "in Julia with full performance, given one uses the features correctly.\n",
    "\n",
    "### Note on isbits\n",
    "\n",
    "Note that a type which is `mutable struct` will not be isbits. This means that\n",
    "mutable structs will be a pointer to a heap allocated object, unless it's\n",
    "shortlived and the compiler can erase its construction. Also, note that\n",
    "`isbits` compiles down to bit operations from pure Julia, which means that these\n",
    "types can directly compile to GPU kernels through CUDAnative without modification.\n",
    "\n",
    "### Function Barriers\n",
    "\n",
    "Since functions automatically specialize on their input types in Julia, we can\n",
    "use this to our advantage in order to make an inner loop fully inferred. For\n",
    "example, take the code from above but with a loop:"
   ]
  },
  {
   "cell_type": "code",
   "execution_count": 47,
   "metadata": {},
   "outputs": [
    {
     "name": "stdout",
     "output_type": "stream",
     "text": [
      "  5.267 μs (300 allocations: 4.69 KiB)\n"
     ]
    },
    {
     "data": {
      "text/plain": [
       "604.0"
      ]
     },
     "execution_count": 47,
     "metadata": {},
     "output_type": "execute_result"
    }
   ],
   "source": [
    "function r(x)\n",
    "  a = 4\n",
    "  b = 2\n",
    "  for i in 1:100\n",
    "    c = f(x[1],a)\n",
    "    d = f(b,c)\n",
    "    a = f(d,x[2])\n",
    "  end\n",
    "  a\n",
    "end\n",
    "@btime r(x)"
   ]
  },
  {
   "cell_type": "markdown",
   "metadata": {},
   "source": [
    "In here, the loop variables are not inferred and thus this is really slow.\n",
    "However, we can force a function call in the middle to end up with specialization\n",
    "and in the inner loop be stable:"
   ]
  },
  {
   "cell_type": "code",
   "execution_count": 48,
   "metadata": {},
   "outputs": [
    {
     "name": "stdout",
     "output_type": "stream",
     "text": [
      "  379.902 ns (1 allocation: 16 bytes)\n"
     ]
    },
    {
     "data": {
      "text/plain": [
       "604.0"
      ]
     },
     "execution_count": 48,
     "metadata": {},
     "output_type": "execute_result"
    }
   ],
   "source": [
    "s(x) = _s(x[1],x[2])\n",
    "function _s(x1,x2)\n",
    "  a = 4\n",
    "  b = 2\n",
    "  for i in 1:100\n",
    "    c = f(x1,a)\n",
    "    d = f(b,c)\n",
    "    a = f(d,x2)\n",
    "  end\n",
    "  a\n",
    "end\n",
    "@btime s(x)"
   ]
  },
  {
   "cell_type": "markdown",
   "metadata": {},
   "source": [
    "Notice that this algorithm still doesn't infer:"
   ]
  },
  {
   "cell_type": "code",
   "execution_count": 49,
   "metadata": {},
   "outputs": [
    {
     "name": "stdout",
     "output_type": "stream",
     "text": [
      "Variables\n",
      "  #self#\u001b[36m::Core.Compiler.Const(s, false)\u001b[39m\n",
      "  x\u001b[36m::Array{Number,1}\u001b[39m\n",
      "\n",
      "Body\u001b[91m\u001b[1m::Any\u001b[22m\u001b[39m\n",
      "\u001b[90m1 ─\u001b[39m %1 = Base.getindex(x, 1)\u001b[91m\u001b[1m::Number\u001b[22m\u001b[39m\n",
      "\u001b[90m│  \u001b[39m %2 = Base.getindex(x, 2)\u001b[91m\u001b[1m::Number\u001b[22m\u001b[39m\n",
      "\u001b[90m│  \u001b[39m %3 = Main._s(%1, %2)\u001b[91m\u001b[1m::Any\u001b[22m\u001b[39m\n",
      "\u001b[90m└──\u001b[39m      return %3\n"
     ]
    }
   ],
   "source": [
    "@code_warntype s(x)"
   ]
  },
  {
   "cell_type": "markdown",
   "metadata": {},
   "source": [
    "since the output of `_s` isn't inferred, but while it's in `_s` it will have\n",
    "specialized on the fact that `x[1]` is a `Float64` while `x[2]` is a `Int`,\n",
    "making that inner loop fast. In fact, it will only need to pay one *dynamic dispatch*,\n",
    "i.e. a multiple dispatch determination that happens at runtime. Notice that\n",
    "whenever functions are inferred, the dispatching is static since the choice\n",
    "of the dispatch is already made and compiled into the LLVM IR.\n",
    "\n",
    "### Specialization at Compile Time\n",
    "\n",
    "Julia code will specialize at compile time if it can prove something about the\n",
    "result. For example:"
   ]
  },
  {
   "cell_type": "code",
   "execution_count": 50,
   "metadata": {},
   "outputs": [
    {
     "data": {
      "text/plain": [
       "fff (generic function with 1 method)"
      ]
     },
     "execution_count": 50,
     "metadata": {},
     "output_type": "execute_result"
    }
   ],
   "source": [
    "function fff(x)\n",
    "  if x isa Int\n",
    "    y = 2\n",
    "  else\n",
    "    y = 4.0\n",
    "  end\n",
    "  x + y\n",
    "end"
   ]
  },
  {
   "cell_type": "markdown",
   "metadata": {},
   "source": [
    "You might think this function has a branch, but in reality Julia can determine\n",
    "whether `x` is an `Int` or not at compile time, so it will actually compile it\n",
    "away and just turn it into the function `x+2` or `x+4.0`:"
   ]
  },
  {
   "cell_type": "code",
   "execution_count": 51,
   "metadata": {},
   "outputs": [
    {
     "name": "stdout",
     "output_type": "stream",
     "text": [
      "\n",
      ";  @ In[50]:2 within `fff'\n",
      "define i64 @julia_fff_18214(i64) {\n",
      "top:\n",
      ";  @ In[50]:7 within `fff'\n",
      "; ┌ @ int.jl:53 within `+'\n",
      "   %1 = add i64 %0, 2\n",
      "; └\n",
      "  ret i64 %1\n",
      "}\n"
     ]
    }
   ],
   "source": [
    "@code_llvm fff(5)"
   ]
  },
  {
   "cell_type": "code",
   "execution_count": 52,
   "metadata": {},
   "outputs": [
    {
     "name": "stdout",
     "output_type": "stream",
     "text": [
      "\n",
      ";  @ In[50]:2 within `fff'\n",
      "define double @julia_fff_18215(double) {\n",
      "top:\n",
      ";  @ In[50]:7 within `fff'\n",
      "; ┌ @ float.jl:401 within `+'\n",
      "   %1 = fadd double %0, 4.000000e+00\n",
      "; └\n",
      "  ret double %1\n",
      "}\n"
     ]
    }
   ],
   "source": [
    "@code_llvm fff(2.0)"
   ]
  },
  {
   "cell_type": "markdown",
   "metadata": {},
   "source": [
    "Thus one does not need to worry about over-optimizing since in the obvious\n",
    "cases the compiler will actually remove all of the extra pieces when it can!\n",
    "\n",
    "### Global Scope and Optimizations\n",
    "\n",
    "This discussion shows how Julia's optimizations all apply during function\n",
    "specialization times. Thus calling Julia functions is fast. But what about\n",
    "when doing something outside of the function, like directly in a module or in\n",
    "the REPL?"
   ]
  },
  {
   "cell_type": "code",
   "execution_count": 53,
   "metadata": {},
   "outputs": [
    {
     "ename": "UndefVarError",
     "evalue": "UndefVarError: A not defined",
     "output_type": "error",
     "traceback": [
      "UndefVarError: A not defined",
      "",
      "Stacktrace:",
      " [1] macro expansion at ./In[53]:3 [inlined]",
      " [2] ##core#476() at /home/marcus/.julia/packages/BenchmarkTools/7aqwe/src/execution.jl:297",
      " [3] ##sample#477(::BenchmarkTools.Parameters) at /home/marcus/.julia/packages/BenchmarkTools/7aqwe/src/execution.jl:303",
      " [4] #_run#9(::Bool, ::String, ::Base.Iterators.Pairs{Symbol,Integer,NTuple{4,Symbol},NamedTuple{(:samples, :evals, :gctrial, :gcsample),Tuple{Int64,Int64,Bool,Bool}}}, ::typeof(BenchmarkTools._run), ::BenchmarkTools.Benchmark{Symbol(\"##benchmark#475\")}, ::BenchmarkTools.Parameters) at /home/marcus/.julia/packages/BenchmarkTools/7aqwe/src/execution.jl:331",
      " [5] (::Base.var\"#inner#2\"{Base.Iterators.Pairs{Symbol,Integer,NTuple{5,Symbol},NamedTuple{(:verbose, :samples, :evals, :gctrial, :gcsample),Tuple{Bool,Int64,Int64,Bool,Bool}}},typeof(BenchmarkTools._run),Tuple{BenchmarkTools.Benchmark{Symbol(\"##benchmark#475\")},BenchmarkTools.Parameters}})() at ./none:0",
      " [6] #invokelatest#1 at ./essentials.jl:713 [inlined]",
      " [7] #invokelatest at ./none:0 [inlined]",
      " [8] #run_result#37 at /home/marcus/.julia/packages/BenchmarkTools/7aqwe/src/execution.jl:32 [inlined]",
      " [9] #run_result at ./none:0 [inlined]",
      " [10] #run#39(::Base.Iterators.Pairs{Symbol,Integer,NTuple{5,Symbol},NamedTuple{(:verbose, :samples, :evals, :gctrial, :gcsample),Tuple{Bool,Int64,Int64,Bool,Bool}}}, ::typeof(run), ::BenchmarkTools.Benchmark{Symbol(\"##benchmark#475\")}, ::BenchmarkTools.Parameters) at /home/marcus/.julia/packages/BenchmarkTools/7aqwe/src/execution.jl:46",
      " [11] #run at ./none:0 [inlined] (repeats 2 times)",
      " [12] #warmup#42 at /home/marcus/.julia/packages/BenchmarkTools/7aqwe/src/execution.jl:79 [inlined]",
      " [13] warmup(::BenchmarkTools.Benchmark{Symbol(\"##benchmark#475\")}) at /home/marcus/.julia/packages/BenchmarkTools/7aqwe/src/execution.jl:79",
      " [14] top-level scope at /home/marcus/.julia/packages/BenchmarkTools/7aqwe/src/execution.jl:390",
      " [15] top-level scope at In[53]:1"
     ]
    }
   ],
   "source": [
    "@btime for j in 1:100, i in 1:100\n",
    "  global A,B,C\n",
    "  C[i,j] = A[i,j] + B[i,j]\n",
    "end"
   ]
  },
  {
   "cell_type": "markdown",
   "metadata": {},
   "source": [
    "This is very slow because the types of `A`, `B`, and `C` cannot be inferred.\n",
    "Why can't they be inferred? Well, at any time in the dynamic REPL scope I can\n",
    "do something like `C = \"haha now a string!\"`, and thus it cannot specialize on\n",
    "the types currently existing in the REPL (since asynchronous changes could also\n",
    "occur), and therefore it defaults back to doing a type check at every single\n",
    "function which slows it down. Moral of the story, Julia functions are fast\n",
    "but its global scope is too dynamic to be optimized.\n",
    "\n",
    "### Summary\n",
    "\n",
    "- Julia is not fast because of its JIT, it's fast because of function specialization\n",
    "  and type inference\n",
    "- Type stable functions allow inference to fully occur\n",
    "- Multiple dispatch works within the function specialization mechanism to create\n",
    "  overhead-free compile time controls\n",
    "- Julia will specialize the generic functions\n",
    "- Making sure values are concretely typed in inner loops is essential for performance\n",
    "\n",
    "## Overheads of Individual Operations\n",
    "\n",
    "Now let's dig even a little deeper. Everything the processor does has a cost.\n",
    "A great chart to keep in mind is\n",
    "[this classic one](http://ithare.com/infographics-operation-costs-in-cpu-clock-cycles/).\n",
    "A few things should immediately jump out to you:\n",
    "\n",
    "- Simple arithmetic, like floating point additions, are super cheap. ~1 clock\n",
    "  cycle, or a few nanoseconds.\n",
    "- Processors do *branch prediction* on `if` statements. If the code goes down\n",
    "  the predicted route, the `if` statement costs ~1-2 clock cycles. If it goes\n",
    "  down the wrong route, then it will take ~10-20 clock cycles. This means that\n",
    "  predictable branches, like ones with clear patterns or usually the same\n",
    "  output, are much cheaper (almost free) than unpredictable branches.\n",
    "- Function calls are expensive: 15-60 clock cycles!\n",
    "- RAM reads are very expensive, with lower caches less expensive.\n",
    "\n",
    "### Bounds Checking\n",
    "\n",
    "Let's check the LLVM IR on one of our earlier loops:"
   ]
  },
  {
   "cell_type": "code",
   "execution_count": 54,
   "metadata": {},
   "outputs": [
    {
     "ename": "UndefVarError",
     "evalue": "UndefVarError: C not defined",
     "output_type": "error",
     "traceback": [
      "UndefVarError: C not defined",
      "",
      "Stacktrace:",
      " [1] top-level scope at In[54]:7"
     ]
    }
   ],
   "source": [
    "function inner_noalloc!(C,A,B)\n",
    "  for j in 1:100, i in 1:100\n",
    "    val = A[i,j] + B[i,j]\n",
    "    C[i,j] = val[1]\n",
    "  end\n",
    "end\n",
    "@code_llvm inner_noalloc!(C,A,B)"
   ]
  },
  {
   "cell_type": "markdown",
   "metadata": {},
   "source": [
    "Notice that this `getelementptr inbounds` stuff is bounds checking. Julia, like\n",
    "all other high level languages, enables bounds checking by default in order to\n",
    "not allow the user to index outside of an array. Indexing outside of an array\n",
    "is dangerous: it can quite easily segfault your system if you change some memory\n",
    "that is unknown beyond your actual array. Thus Julia throws an error:"
   ]
  },
  {
   "cell_type": "code",
   "execution_count": null,
   "metadata": {},
   "outputs": [],
   "source": [
    "A[101,1]"
   ]
  },
  {
   "cell_type": "markdown",
   "metadata": {},
   "source": [
    "In tight inner loops, we can remove this bounds checking process using the\n",
    "`@inbounds` macro:"
   ]
  },
  {
   "cell_type": "code",
   "execution_count": null,
   "metadata": {},
   "outputs": [],
   "source": [
    "function inner_noalloc_ib!(C,A,B)\n",
    "  @inbounds for j in 1:100, i in 1:100\n",
    "    val = A[i,j] + B[i,j]\n",
    "    C[i,j] = val[1]\n",
    "  end\n",
    "end\n",
    "@btime inner_noalloc!(C,A,B)"
   ]
  },
  {
   "cell_type": "code",
   "execution_count": null,
   "metadata": {},
   "outputs": [],
   "source": [
    "@btime inner_noalloc_ib!(C,A,B)"
   ]
  },
  {
   "cell_type": "markdown",
   "metadata": {},
   "source": [
    "### SIMD\n",
    "\n",
    "Now let's inspect the LLVM IR again:"
   ]
  },
  {
   "cell_type": "code",
   "execution_count": null,
   "metadata": {},
   "outputs": [],
   "source": [
    "@code_llvm inner_noalloc_ib!(C,A,B)"
   ]
  },
  {
   "cell_type": "markdown",
   "metadata": {},
   "source": [
    "If you look closely, you will see things like:\n",
    "\n",
    "```\n",
    "%wide.load24 = load <4 x double>, <4 x double> addrspac(13)* %46, align 8\n",
    "; └\n",
    "; ┌ @ float.jl:395 within `+'\n",
    "%47 = fadd <4 x double> %wide.load, %wide.load24\n",
    "```\n",
    "\n",
    "What this is saying is that it's loading and adding 4 `Float64`s at a time!\n",
    "This feature of the processor is known as SIMD: single input multiple data.\n",
    "If certain primitive floating point operations, like `+` and `*`, are done\n",
    "in succession (i.e. no inbounds checks between them!), then the processor\n",
    "can lump them together and do multiples at once. Since clock cycles have stopped\n",
    "improving while transistors have gotten smaller, this \"lumping\" has been a big\n",
    "source of speedups in computational mathematics even though the actual `+` and `*`\n",
    "hasn't gotten faster. Thus to get full speed we want to make sure this is utilized\n",
    "whenever possible, which essentially just amounts to doing type inferred loops\n",
    "with no branches or bounds checks in the way.\n",
    "\n",
    "### FMA\n",
    "\n",
    "Modern processors have a single operation that fuses the multiplication and\n",
    "the addition in the operation `x*y+z`, known as a *fused multiply-add* or\n",
    "FMA. Note that FMA has less floating point roundoff error than the two operation\n",
    "form. We can see this intrinsic in the resulting LLVM IR:"
   ]
  },
  {
   "cell_type": "code",
   "execution_count": null,
   "metadata": {},
   "outputs": [],
   "source": [
    "@code_llvm fma(2.0,5.0,3.0)"
   ]
  },
  {
   "cell_type": "markdown",
   "metadata": {},
   "source": [
    "The Julia function `muladd` will automatically choose between FMA and the original\n",
    "form depending on the availability of the routine in the processor. The MuladdMacro.jl\n",
    "package has a macro `@muladd` which pulls apart statements to add `muladd`\n",
    "expressions. For example, `x1*y1 + x2*y2 + x3*y3` can be rewritten as:\n",
    "\n",
    "```\n",
    "muladd(x1,y1,muladd(x2,y2,x3*y3))\n",
    "```\n",
    "\n",
    "Which reduces the linear combination to just 3 arithmetic operations. FMA\n",
    "operations can be SIMD'd.\n",
    "\n",
    "### Inlining\n",
    "\n",
    "All of this would go to waste if function call costs of 50 clock cycles were\n",
    "interrupting every single `+`. Fortunately these function calls disappear during\n",
    "the compilation process due to what's known as inlining. Essentially, if the\n",
    "function call is determined to be \"cheap enough\", the actual function call\n",
    "is removed and the code is basically pasted into the function caller. We can\n",
    "force a function call to occur by teling it to not inline:"
   ]
  },
  {
   "cell_type": "code",
   "execution_count": 55,
   "metadata": {},
   "outputs": [
    {
     "data": {
      "text/plain": [
       "qnoinline (generic function with 1 method)"
      ]
     },
     "execution_count": 55,
     "metadata": {},
     "output_type": "execute_result"
    }
   ],
   "source": [
    "@noinline fnoinline(x,y) = x + y\n",
    "finline(x,y) = x + y # Can add @inline, but this is automatic here\n",
    "function qinline(x,y)\n",
    "  a = 4\n",
    "  b = 2\n",
    "  c = finline(x,a)\n",
    "  d = finline(b,c)\n",
    "  finline(d,y)\n",
    "end\n",
    "function qnoinline(x,y)\n",
    "  a = 4\n",
    "  b = 2\n",
    "  c = fnoinline(x,a)\n",
    "  d = fnoinline(b,c)\n",
    "  fnoinline(d,y)\n",
    "end"
   ]
  },
  {
   "cell_type": "code",
   "execution_count": 56,
   "metadata": {},
   "outputs": [
    {
     "name": "stdout",
     "output_type": "stream",
     "text": [
      "\n",
      ";  @ In[55]:4 within `qinline'\n",
      "define double @julia_qinline_18248(double, double) {\n",
      "top:\n",
      ";  @ In[55]:6 within `qinline'\n",
      "; ┌ @ In[55]:2 within `finline'\n",
      "; │┌ @ promotion.jl:311 within `+' @ float.jl:401\n",
      "    %2 = fadd double %0, 4.000000e+00\n",
      "; └└\n",
      ";  @ In[55]:7 within `qinline'\n",
      "; ┌ @ In[55]:2 within `finline'\n",
      "; │┌ @ promotion.jl:311 within `+' @ float.jl:401\n",
      "    %3 = fadd double %2, 2.000000e+00\n",
      "; └└\n",
      ";  @ In[55]:8 within `qinline'\n",
      "; ┌ @ In[55]:2 within `finline'\n",
      "; │┌ @ float.jl:401 within `+'\n",
      "    %4 = fadd double %3, %1\n",
      "; └└\n",
      "  ret double %4\n",
      "}\n"
     ]
    }
   ],
   "source": [
    "@code_llvm qinline(1.0,2.0)"
   ]
  },
  {
   "cell_type": "code",
   "execution_count": 57,
   "metadata": {},
   "outputs": [
    {
     "name": "stdout",
     "output_type": "stream",
     "text": [
      "\n",
      ";  @ In[55]:11 within `qnoinline'\n",
      "define double @julia_qnoinline_18249(double, double) {\n",
      "top:\n",
      ";  @ In[55]:13 within `qnoinline'\n",
      "  %2 = call double @julia_fnoinline_18250(double %0, i64 4)\n",
      ";  @ In[55]:14 within `qnoinline'\n",
      "  %3 = call double @julia_fnoinline_18251(i64 2, double %2)\n",
      ";  @ In[55]:15 within `qnoinline'\n",
      "  %4 = call double @julia_fnoinline_18252(double %3, double %1)\n",
      "  ret double %4\n",
      "}\n"
     ]
    }
   ],
   "source": [
    "@code_llvm qnoinline(1.0,2.0)"
   ]
  },
  {
   "cell_type": "markdown",
   "metadata": {},
   "source": [
    "We can see now that it keeps the function calls:\n",
    "\n",
    "```\n",
    "%4 = call double @julia_fnoinline_21538(double %3, double %1)\n",
    "```\n",
    "\n",
    "and this is slower in comparison to what we had before (but it still infers)."
   ]
  },
  {
   "cell_type": "code",
   "execution_count": 58,
   "metadata": {},
   "outputs": [
    {
     "name": "stdout",
     "output_type": "stream",
     "text": [
      "  17.553 ns (1 allocation: 16 bytes)\n"
     ]
    },
    {
     "data": {
      "text/plain": [
       "9.0"
      ]
     },
     "execution_count": 58,
     "metadata": {},
     "output_type": "execute_result"
    }
   ],
   "source": [
    "x = 1.0\n",
    "y = 2.0\n",
    "@btime qinline(x,y)"
   ]
  },
  {
   "cell_type": "code",
   "execution_count": 59,
   "metadata": {},
   "outputs": [
    {
     "name": "stdout",
     "output_type": "stream",
     "text": [
      "  20.361 ns (1 allocation: 16 bytes)\n"
     ]
    },
    {
     "data": {
      "text/plain": [
       "9.0"
      ]
     },
     "execution_count": 59,
     "metadata": {},
     "output_type": "execute_result"
    }
   ],
   "source": [
    "@btime qnoinline(x,y)"
   ]
  },
  {
   "cell_type": "markdown",
   "metadata": {},
   "source": [
    "Note that if we ever want to go the other direction and tell Julia to inline as\n",
    "much as possible, one can use the macro `@inline`.\n",
    "\n",
    "### Summary\n",
    "\n",
    "- Scalar operations are super cheap, and if they are cache-aligned then more\n",
    "  than one will occur in a clock cycle.\n",
    "- Inlining a function will remove the high function call overhead.\n",
    "- Branch prediction is pretty good these days, so keep them out of super tight\n",
    "  inner loops but don't worry all too much about them.\n",
    "- Cache misses are quite expensive the futher out it goes.\n",
    "\n",
    "## Note on Benchmarking\n",
    "\n",
    "Julia's compiler is smart. This means that if you don't try hard enough, Julia's\n",
    "compiler might get rid of your issues. For example, it can delete branches and\n",
    "directly compute the result if all of the values are known at compile time. So\n",
    "be very careful when benchmarking: your tests may have just compiled away!\n",
    "\n",
    "Notice the following:"
   ]
  },
  {
   "cell_type": "code",
   "execution_count": 60,
   "metadata": {},
   "outputs": [
    {
     "name": "stdout",
     "output_type": "stream",
     "text": [
      "  0.001 ns (0 allocations: 0 bytes)\n"
     ]
    },
    {
     "data": {
      "text/plain": [
       "9.0"
      ]
     },
     "execution_count": 60,
     "metadata": {},
     "output_type": "execute_result"
    }
   ],
   "source": [
    "@btime qinline(1.0,2.0)"
   ]
  },
  {
   "cell_type": "markdown",
   "metadata": {},
   "source": [
    "Dang, that's much faster! But if you look into it, Julia's compiler is actually\n",
    "\"cheating\" on this benchmark:"
   ]
  },
  {
   "cell_type": "code",
   "execution_count": 61,
   "metadata": {},
   "outputs": [
    {
     "name": "stdout",
     "output_type": "stream",
     "text": [
      "\n",
      ";  @ In[61]:1 within `cheat'\n",
      "define double @julia_cheat_18297() {\n",
      "top:\n",
      "  ret double 9.000000e+00\n",
      "}\n"
     ]
    }
   ],
   "source": [
    "cheat() = qinline(1.0,2.0)\n",
    "@code_llvm cheat()"
   ]
  },
  {
   "cell_type": "markdown",
   "metadata": {},
   "source": [
    "It realized that `1.0` and `2.0` are constants, so it did what's known as\n",
    "*constant propogation*, and then used those constants inside of the function.\n",
    "It realized that the solution is always `9`, so it compiled the function that...\n",
    "spits out `9`! So it's fast because it's not computing anything. So be very\n",
    "careful about propogation of constants and literals. In general this is a very\n",
    "helpful feature, but when benchmarking this can cause some weird behavior. If\n",
    "a micro benchmark is taking less than a nanosecond, check and see if the compiler\n",
    "\"fixed\" your code!\n",
    "\n",
    "## Conclusion\n",
    "\n",
    "Optimize your serial code before you parallelize. There's a lot to think about.\n",
    "\n",
    "# Discussion Questions\n",
    "\n",
    "Here's a few discussion questions to think about performance engineering in\n",
    "scientific tasks:\n",
    "\n",
    "1) What are the advantages of a `Vector{Array}` vs a `Matrix`? What are the\n",
    "   disadvantage? (What's different?)\n",
    "2) What is a good way to implement a data frame?\n",
    "3) What are some good things that come out of generic functions for free?\n",
    "   What are some things you should watch out for with generic functions?"
   ]
  }
 ],
 "metadata": {
  "hide_input": false,
  "kernelspec": {
   "display_name": "Julia 1.3.1",
   "language": "julia",
   "name": "julia-1.3"
  },
  "language_info": {
   "file_extension": ".jl",
   "mimetype": "application/julia",
   "name": "julia",
   "version": "1.3.1"
  },
  "latex_envs": {
   "LaTeX_envs_menu_present": true,
   "autoclose": false,
   "autocomplete": false,
   "bibliofile": "biblio.bib",
   "cite_by": "apalike",
   "current_citInitial": 1,
   "eqLabelWithNumbers": true,
   "eqNumInitial": 1,
   "hotkeys": {
    "equation": "Ctrl-E",
    "itemize": "Ctrl-I"
   },
   "labels_anchors": false,
   "latex_user_defs": false,
   "report_style_numbering": false,
   "user_envs_cfg": false
  },
  "toc": {
   "base_numbering": 1,
   "nav_menu": {},
   "number_sections": true,
   "sideBar": true,
   "skip_h1_title": false,
   "title_cell": "Table of Contents",
   "title_sidebar": "Contents",
   "toc_cell": false,
   "toc_position": {},
   "toc_section_display": true,
   "toc_window_display": false
  }
 },
 "nbformat": 4,
 "nbformat_minor": 2
}
